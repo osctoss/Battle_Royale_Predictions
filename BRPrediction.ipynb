{
 "cells": [
  {
   "cell_type": "markdown",
   "id": "4d16c955-0e8b-4b02-b806-1759028125dc",
   "metadata": {},
   "source": [
    "# **Survival Time Prediction and Exploratory Analysis of Battle Royale Player Data**\n",
    "\n",
    "## **PROJECT OVERVIEW**\n",
    "\n",
    "The Battle Royale dataset captures detailed information about players across various servers, tiers, and roles, including metrics such as Kill-Death ratio (KD), experience points, level, achievements, mode, and activity status. However, the raw dataset contains missing values, inconsistent entries, and lacks structured survival time labels.\n",
    "\n",
    "The goal of this project is to **clean and preprocess the dataset**, then apply a **hybrid technique (rule-based + machine learning)** to predict each player's survival duration category. In addition, the project performs **exploratory data analysis (EDA)** to uncover patterns in player performance, tier behavior, and region-based distributions. Through high-quality and interactive visualizations, we gain insights into the factors affecting survival and player trends. The findings can inform game balancing, matchmaking systems, and player retention strategies.\n",
    "\n",
    "---\n",
    "\n",
    "## **OBJECTIVES**\n",
    "\n",
    "### ✅ **Data Cleaning & Preprocessing**\n",
    "\n",
    "- Detect and remove **invalid entries** (e.g., players with low experience but high achievements).\n",
    "- Handle missing values using appropriate techniques (e.g., median imputation).\n",
    "- Derive **survival labels** based on rules: `<10min`, `<20min`, `<30min`, or `Uncertain`.\n",
    "- Normalize and encode relevant features for machine learning compatibility.\n",
    "\n",
    "---\n",
    "\n",
    "### ✅ **Machine Learning Prediction**\n",
    "\n",
    "- Train a **Random Forest Classifier** using rule-labeled survival durations.\n",
    "- Use reliable features (KD, level, achievements, mode, tier, etc.) for prediction.\n",
    "- Evaluate model performance with precision, recall, F1-score, and accuracy.\n",
    "- Save model pipeline for reproducibility and deployment.\n",
    "\n",
    "---\n",
    "\n",
    "### ✅ **Exploratory Data Analysis (EDA)**\n",
    "\n",
    "- Visualize **average KD and survival time per server** to understand server behavior.\n",
    "- Generate insightful plots:\n",
    "  - **KD Ratio vs Tier** using violin/box plots.\n",
    "  - **Player count and achievements per region** using interactive scatter/bubble plots.\n",
    "  - **Density of KD values** around the average using regression & KDE plots.\n",
    "- Analyze patterns across **modes (Solo, Duo, Squad)** and **activity types (Returner, Dominator, etc.)**.\n",
    "\n",
    "---\n",
    "\n",
    "### ✅ **Advanced Visualizations**\n",
    "\n",
    "- Use **Seaborn**, **Matplotlib**, and **Plotly Express** for professional-grade visual appeal.\n",
    "- Apply:\n",
    "  - **Premium color palettes** (deep, pastel, or custom themes).\n",
    "  - **Annotated plots and titles** for interpretability.\n",
    "  - **Interactive visualizations** for deeper analysis.\n",
    "- Improve layout with grid-based subplots, tight axis limits, and clean legends.\n",
    "\n",
    "---\n",
    "\n",
    "## **STATISTICAL & BUSINESS INSIGHTS**\n",
    "\n",
    "- Reveal how **Tier level impacts KD and survival**.\n",
    "- Identify player categories most likely to survive longer or perform better.\n",
    "- Discover underperforming regions or player clusters needing intervention.\n",
    "- Flag **suspicious/fake profiles** based on inconsistencies between achievements, experience, and survival.\n",
    "\n",
    "---\n",
    "\n",
    "## **BUSINESS RECOMMENDATIONS**\n",
    "\n",
    "- Tailor **game difficulty and rewards** for high-risk players (<10min survival).\n",
    "- Implement **region-aware matchmaking** based on player density and server performance.\n",
    "- Promote fair competition by balancing **Tier-based progression**.\n",
    "- Support player engagement by adjusting **goals/achievements** based on survival prediction.\n",
    "\n",
    "---\n",
    "\n",
    "## **DELIVERABLES**\n",
    "\n",
    "- ✅ Cleaned and preprocessed dataset\n",
    "- ✅ Rule-labeled and ML-predicted survival outcomes\n",
    "- ✅ Trained machine learning model (Random Forest)\n",
    "- ✅ Interactive and professional EDA visualizations\n",
    "- ✅ A complete Jupyter Notebook with code, visuals, and insights\n"
   ]
  },
  {
   "cell_type": "markdown",
   "id": "e6754b02-9cfe-46d7-8078-de2c90a50179",
   "metadata": {},
   "source": [
    "### **1) Importing relavant libraries**"
   ]
  },
  {
   "cell_type": "code",
   "execution_count": 10,
   "id": "3fed7400-4b2d-4a32-87b8-cf6eee5aeb47",
   "metadata": {},
   "outputs": [],
   "source": [
    "import pandas as pd\n",
    "import numpy as np\n",
    "\n",
    "import matplotlib.pyplot as plt\n",
    "import seaborn as sns\n",
    "\n",
    "from sklearn.model_selection import train_test_split\n",
    "from sklearn.preprocessing import LabelEncoder\n",
    "from sklearn.ensemble import RandomForestClassifier\n",
    "from sklearn.metrics import classification_report, confusion_matrix, accuracy_score\n",
    "import joblib  \n",
    "\n",
    "import warnings\n",
    "warnings.filterwarnings(\"ignore\")\n",
    "\n",
    "sns.set(style=\"whitegrid\")\n"
   ]
  },
  {
   "cell_type": "markdown",
   "id": "3e5a3cbe-091a-4bc9-a98d-864bffbc666a",
   "metadata": {},
   "source": [
    "### **2) Loading the Dataset & Handling missing values**"
   ]
  },
  {
   "cell_type": "code",
   "execution_count": 32,
   "id": "5d8e1c5d-b43e-4e0d-922a-5d658fae0720",
   "metadata": {},
   "outputs": [],
   "source": [
    "df = pd.read_excel('Data/test_Battle_Royale.csv.xlsx')\n",
    "\n",
    "categorical_cols = ['Role', 'Tier', 'ActivityStatus']\n",
    "numerical_cols = ['Experience', 'Level', 'Achievements', 'KD']\n",
    "\n",
    "df[categorical_cols] = df[categorical_cols].fillna('Unknown')\n",
    "df[numerical_cols] = df[numerical_cols].fillna(df[numerical_cols].median())\n"
   ]
  },
  {
   "cell_type": "code",
   "execution_count": 29,
   "id": "ff4c571d-92bd-4b13-8754-8a2700ba9f42",
   "metadata": {},
   "outputs": [
    {
     "name": "stdout",
     "output_type": "stream",
     "text": [
      "      Server  Mode         PlayerName     Role  Experience  Level     Tier  \\\n",
      "0       Asia  Solo      IronSlayer866      IGL         3.6   51.0     Gold   \n",
      "1       Asia  Solo   InfernoRanger694  Unknown         3.6   43.0    Crown   \n",
      "2  Australia   Duo     VenomOutlaw708   Sniper         3.6   72.0  Unknown   \n",
      "3    America  Solo     VenomReaper128  Unknown         7.1   67.0     Gold   \n",
      "4       Asia  Solo  DeadlyCommando434      IGL         6.9   81.0      Ace   \n",
      "\n",
      "  ActivityStatus  Achievements     KD  FalseEntry  LegendPlayer  \\\n",
      "0        Unknown        5540.0  10.55       False         False   \n",
      "1         Casual        6416.0  12.10       False         False   \n",
      "2        Unknown        8288.0   6.48       False         False   \n",
      "3       Returner        7200.0   7.56       False          True   \n",
      "4        Unknown        6812.0   2.47       False         False   \n",
      "\n",
      "   UltimateLegend  \n",
      "0           False  \n",
      "1           False  \n",
      "2           False  \n",
      "3            True  \n",
      "4           False  \n"
     ]
    }
   ],
   "source": [
    "print(df.head())"
   ]
  },
  {
   "cell_type": "markdown",
   "id": "944dc990-5c15-47e2-ad3d-b6d22084e9a4",
   "metadata": {},
   "source": [
    "### 3) **Checking for duplicates**"
   ]
  },
  {
   "cell_type": "code",
   "execution_count": 33,
   "id": "ce9f09d7-10f5-48a6-b22f-e78aa743c61a",
   "metadata": {},
   "outputs": [
    {
     "name": "stdout",
     "output_type": "stream",
     "text": [
      "Duplicate rows: 0\n"
     ]
    }
   ],
   "source": [
    "print(f\"Duplicate rows: {df.duplicated().sum()}\")\n",
    "df.drop_duplicates(inplace=True)   "
   ]
  },
  {
   "cell_type": "markdown",
   "id": "6fd370c1-4505-4f65-b73c-227a2fc842d0",
   "metadata": {},
   "source": [
    "### **4) Rejecting invalid Entries**"
   ]
  },
  {
   "cell_type": "code",
   "execution_count": 30,
   "id": "e30d29c1-44d4-40ed-88f9-6654e3fd54ca",
   "metadata": {},
   "outputs": [],
   "source": [
    "condition1 = (df['ActivityStatus'] == 'Returner') & (df['Tier'].isin(['Legend', 'Dominator', 'Conqueror']))\n",
    "\n",
    "condition2 = (df['Experience'] <= 3) & (df['Achievements'] > 5000)\n",
    "\n",
    "df['FalseEntry'] = (condition1 | condition2)\n"
   ]
  },
  {
   "cell_type": "code",
   "execution_count": 13,
   "id": "b6dbf8c1-f3bd-448d-aed2-f5c7e6eae75f",
   "metadata": {},
   "outputs": [],
   "source": [
    "valid_df = df[~df['FalseEntry']].copy()"
   ]
  },
  {
   "cell_type": "markdown",
   "id": "998843c8-d1b8-41db-82b5-de6de6a2eeb8",
   "metadata": {},
   "source": [
    "### **5) Survival Time Prediction**"
   ]
  },
  {
   "cell_type": "code",
   "execution_count": 14,
   "id": "5813bcc8-465b-4d77-8806-3bbc7cd59779",
   "metadata": {},
   "outputs": [],
   "source": [
    "def predict_survival(row):\n",
    "    if (row['KD'] <= 5) and (row['ActivityStatus'] in ['Returner', 'Casual']) and (row['Tier'] in ['Gold', 'Platinum', 'Diamond']):\n",
    "        return '<10min'\n",
    "    elif (3 < row['KD'] <= 10) and (row['Tier'] in ['Diamond', 'Crown']):\n",
    "        return '<20min'\n",
    "    elif (8 <= row['KD'] <= 15) and (row['ActivityStatus'] in ['Regular', 'Casual']) and (row['Tier'] in ['Ace', 'Dominator', 'Legend', 'Conqueror']):\n",
    "        return '<30min'\n",
    "    else:\n",
    "        return 'Uncertain'\n",
    "\n",
    "valid_df['SurvivalTime'] = valid_df.apply(predict_survival, axis=1)\n"
   ]
  },
  {
   "cell_type": "markdown",
   "id": "4ca3dd57-f346-4298-95c6-3f2b5deb7926",
   "metadata": {},
   "source": [
    "### **6) Invalid Enteries**"
   ]
  },
  {
   "cell_type": "code",
   "execution_count": 15,
   "id": "3d58bde6-8b9e-43fb-8df7-6b10eb443365",
   "metadata": {},
   "outputs": [
    {
     "data": {
      "text/html": [
       "<div>\n",
       "<style scoped>\n",
       "    .dataframe tbody tr th:only-of-type {\n",
       "        vertical-align: middle;\n",
       "    }\n",
       "\n",
       "    .dataframe tbody tr th {\n",
       "        vertical-align: top;\n",
       "    }\n",
       "\n",
       "    .dataframe thead th {\n",
       "        text-align: right;\n",
       "    }\n",
       "</style>\n",
       "<table border=\"1\" class=\"dataframe\">\n",
       "  <thead>\n",
       "    <tr style=\"text-align: right;\">\n",
       "      <th></th>\n",
       "      <th>Server</th>\n",
       "      <th>Mode</th>\n",
       "      <th>PlayerName</th>\n",
       "      <th>Role</th>\n",
       "      <th>Experience</th>\n",
       "      <th>Level</th>\n",
       "      <th>Tier</th>\n",
       "      <th>ActivityStatus</th>\n",
       "      <th>Achievements</th>\n",
       "      <th>KD</th>\n",
       "      <th>FalseEntry</th>\n",
       "    </tr>\n",
       "  </thead>\n",
       "  <tbody>\n",
       "    <tr>\n",
       "      <th>13</th>\n",
       "      <td>Asia</td>\n",
       "      <td>Solo</td>\n",
       "      <td>RogueDestroyer553</td>\n",
       "      <td>Unknown</td>\n",
       "      <td>3.6</td>\n",
       "      <td>80.0</td>\n",
       "      <td>Dominator</td>\n",
       "      <td>Returner</td>\n",
       "      <td>6812.0</td>\n",
       "      <td>8.33</td>\n",
       "      <td>True</td>\n",
       "    </tr>\n",
       "    <tr>\n",
       "      <th>15</th>\n",
       "      <td>America</td>\n",
       "      <td>Squad</td>\n",
       "      <td>DeadlyNinja898</td>\n",
       "      <td>Unknown</td>\n",
       "      <td>2.5</td>\n",
       "      <td>63.0</td>\n",
       "      <td>Gold</td>\n",
       "      <td>Regular</td>\n",
       "      <td>6874.0</td>\n",
       "      <td>8.17</td>\n",
       "      <td>True</td>\n",
       "    </tr>\n",
       "    <tr>\n",
       "      <th>18</th>\n",
       "      <td>Europe</td>\n",
       "      <td>Solo</td>\n",
       "      <td>FatalHunter723</td>\n",
       "      <td>IGL</td>\n",
       "      <td>1.1</td>\n",
       "      <td>54.0</td>\n",
       "      <td>Ace</td>\n",
       "      <td>Regular</td>\n",
       "      <td>7910.0</td>\n",
       "      <td>8.17</td>\n",
       "      <td>True</td>\n",
       "    </tr>\n",
       "    <tr>\n",
       "      <th>20</th>\n",
       "      <td>America</td>\n",
       "      <td>Duo</td>\n",
       "      <td>DarkCommando961</td>\n",
       "      <td>Assaulter</td>\n",
       "      <td>2.6</td>\n",
       "      <td>67.0</td>\n",
       "      <td>Platinum</td>\n",
       "      <td>Regular</td>\n",
       "      <td>6812.0</td>\n",
       "      <td>5.16</td>\n",
       "      <td>True</td>\n",
       "    </tr>\n",
       "    <tr>\n",
       "      <th>26</th>\n",
       "      <td>America</td>\n",
       "      <td>Squad</td>\n",
       "      <td>FatalBerserk727</td>\n",
       "      <td>Assaulter</td>\n",
       "      <td>1.7</td>\n",
       "      <td>77.0</td>\n",
       "      <td>Ace</td>\n",
       "      <td>Regular</td>\n",
       "      <td>8037.0</td>\n",
       "      <td>8.17</td>\n",
       "      <td>True</td>\n",
       "    </tr>\n",
       "  </tbody>\n",
       "</table>\n",
       "</div>"
      ],
      "text/plain": [
       "     Server   Mode         PlayerName       Role  Experience  Level  \\\n",
       "13     Asia   Solo  RogueDestroyer553    Unknown         3.6   80.0   \n",
       "15  America  Squad     DeadlyNinja898    Unknown         2.5   63.0   \n",
       "18   Europe   Solo     FatalHunter723        IGL         1.1   54.0   \n",
       "20  America    Duo    DarkCommando961  Assaulter         2.6   67.0   \n",
       "26  America  Squad    FatalBerserk727  Assaulter         1.7   77.0   \n",
       "\n",
       "         Tier ActivityStatus  Achievements    KD  FalseEntry  \n",
       "13  Dominator       Returner        6812.0  8.33        True  \n",
       "15       Gold        Regular        6874.0  8.17        True  \n",
       "18        Ace        Regular        7910.0  8.17        True  \n",
       "20   Platinum        Regular        6812.0  5.16        True  \n",
       "26        Ace        Regular        8037.0  8.17        True  "
      ]
     },
     "execution_count": 15,
     "metadata": {},
     "output_type": "execute_result"
    }
   ],
   "source": [
    "false_entries = df[df['FalseEntry']]\n",
    "false_entries.head()"
   ]
  },
  {
   "cell_type": "markdown",
   "id": "cf005a5b-d984-418f-ac63-5c11638fa190",
   "metadata": {},
   "source": [
    "### **7) Legend & Ultimate legend players**"
   ]
  },
  {
   "cell_type": "code",
   "execution_count": 16,
   "id": "5a1d7866-4464-4ea3-99cf-31773a09a290",
   "metadata": {},
   "outputs": [],
   "source": [
    "df['LegendPlayer'] = (df['Experience'] >= 6) & (df['Achievements'] >= 7000)\n",
    "df['UltimateLegend'] = df['LegendPlayer'] & (df['ActivityStatus'] == 'Returner')"
   ]
  },
  {
   "cell_type": "markdown",
   "id": "7f26540b-96f8-4560-b459-eaebcdab8e13",
   "metadata": {},
   "source": [
    "### **8) Basic Visualization**"
   ]
  },
  {
   "cell_type": "code",
   "execution_count": 17,
   "id": "ae4e905e-c900-48a0-90d2-344cbddae258",
   "metadata": {},
   "outputs": [
    {
     "data": {
      "image/png": "[encoded data removed]",
      "text/plain": [
       "<Figure size 800x500 with 1 Axes>"
      ]
     },
     "metadata": {},
     "output_type": "display_data"
    },
    {
     "data": {
      "image/png": "[encoded data removed]",
      "text/plain": [
       "<Figure size 800x500 with 1 Axes>"
      ]
     },
     "metadata": {},
     "output_type": "display_data"
    },
    {
     "data": {
      "image/png": "[encoded data removed]",
      "text/plain": [
       "<Figure size 600x400 with 1 Axes>"
      ]
     },
     "metadata": {},
     "output_type": "display_data"
    },
    {
     "data": {
      "image/png": "[encoded data removed]",
      "text/plain": [
       "<Figure size 600x400 with 1 Axes>"
      ]
     },
     "metadata": {},
     "output_type": "display_data"
    }
   ],
   "source": [
    "# Graph for Survival Time distribution\n",
    "plt.figure(figsize=(8,5))\n",
    "sns.countplot(data=valid_df, x='SurvivalTime', hue='SurvivalTime', palette='Set2', legend=False)\n",
    "plt.title(\"Survival Time Distribution\")\n",
    "plt.xlabel(\"Predicted Survival Time\")\n",
    "plt.ylabel(\"Number of Players\")\n",
    "plt.show()\n",
    "\n",
    "# Graph: FALSE Entries \n",
    "plt.figure(figsize=(8,5))\n",
    "sns.countplot(data=df[df['FalseEntry']], x='ActivityStatus', hue='Tier', palette='cool')\n",
    "plt.title(\"False Entries by Activity and Tier\")\n",
    "plt.show()\n",
    "\n",
    "# Graph: Legend Players\n",
    "plt.figure(figsize=(6,4))\n",
    "sns.countplot(data=df, x='LegendPlayer', hue='LegendPlayer', palette='Set2', legend=False)\n",
    "plt.title(\"Legend Player Count\")\n",
    "plt.show()\n",
    "\n",
    "plt.figure(figsize=(6,4))\n",
    "sns.countplot(data=df, x='UltimateLegend', hue='UltimateLegend', palette='Set2', legend=False)\n",
    "plt.title(\"Ultimate Legend Player Count\")\n",
    "plt.show()\n"
   ]
  },
  {
   "cell_type": "markdown",
   "id": "740c0115-4111-4f6d-91d1-dceecc5d56bb",
   "metadata": {},
   "source": [
    "### **Distribution of Players by Survival Time**"
   ]
  },
  {
   "cell_type": "code",
   "execution_count": 19,
   "id": "f7648442-e183-4414-8e1c-509b0ea6079b",
   "metadata": {},
   "outputs": [
    {
     "data": {
      "image/png": "[encoded data removed]",
      "text/plain": [
       "<Figure size 800x500 with 1 Axes>"
      ]
     },
     "metadata": {},
     "output_type": "display_data"
    }
   ],
   "source": [
    "#Counting how many players are in <10min, <20min, <30min\n",
    "survival_counts = valid_df['SurvivalTime'].value_counts().reindex(['<10min', '<20min', '<30min'], fill_value=0)\n",
    "plt.figure(figsize=(8,5))\n",
    "sns.barplot(x=survival_counts.index, y=survival_counts.values, palette='Set2')\n",
    "plt.title(\"Distribution of Players by Survival Time\")\n",
    "plt.xlabel(\"Survival Time Category\")\n",
    "plt.ylabel(\"Number of Players\")\n",
    "plt.show()\n"
   ]
  },
  {
   "cell_type": "code",
   "execution_count": 20,
   "id": "11b1a57d-b4cc-46d8-a879-e0311f6e620f",
   "metadata": {},
   "outputs": [
    {
     "name": "stdout",
     "output_type": "stream",
     "text": [
      "Accuracy: 0.9285714285714286\n",
      "\n",
      "Classification Report:\n",
      "               precision    recall  f1-score   support\n",
      "\n",
      "      <10min       1.00      0.50      0.67         2\n",
      "      <20min       0.89      1.00      0.94         8\n",
      "      <30min       1.00      1.00      1.00         4\n",
      "\n",
      "    accuracy                           0.93        14\n",
      "   macro avg       0.96      0.83      0.87        14\n",
      "weighted avg       0.94      0.93      0.92        14\n",
      "\n"
     ]
    },
    {
     "data": {
      "image/png": "[encoded data removed]",
      "text/plain": [
       "<Figure size 600x500 with 2 Axes>"
      ]
     },
     "metadata": {},
     "output_type": "display_data"
    }
   ],
   "source": [
    "#Filter out 'Uncertain' classes\n",
    "train_df = valid_df[valid_df['SurvivalTime'] != 'Uncertain'].copy()\n",
    "\n",
    "#Label encode target\n",
    "le = LabelEncoder()\n",
    "train_df['SurvivalTimeLabel'] = le.fit_transform(train_df['SurvivalTime'])  # <10min = 0, <20min = 1, <30min = 2\n",
    "\n",
    "#Encoding categorical variables\n",
    "encoded_df = pd.get_dummies(train_df[['Server', 'Mode', 'Role', 'Tier', 'ActivityStatus']], drop_first=True)\n",
    "\n",
    "X = pd.concat([train_df[['Experience', 'Level', 'Achievements', 'KD']], encoded_df], axis=1)\n",
    "y = train_df['SurvivalTimeLabel']\n",
    "X_train, X_test, y_train, y_test = train_test_split(X, y, test_size=0.2, random_state=42)\n",
    "\n",
    "#Training Random Forest\n",
    "clf = RandomForestClassifier(n_estimators=100, random_state=42)\n",
    "clf.fit(X_train, y_train)\n",
    "\n",
    "#Predictions\n",
    "y_pred = clf.predict(X_test)\n",
    "\n",
    "#Evaluation\n",
    "print(\"Accuracy:\", accuracy_score(y_test, y_pred))\n",
    "print(\"\\nClassification Report:\\n\", classification_report(y_test, y_pred, target_names=le.classes_))\n",
    "\n",
    "#Confusion Matrix\n",
    "plt.figure(figsize=(6,5))\n",
    "sns.heatmap(confusion_matrix(y_test, y_pred), annot=True, fmt='d', xticklabels=le.classes_, yticklabels=le.classes_)\n",
    "plt.title(\"Confusion Matrix\")\n",
    "plt.xlabel(\"Predicted\")\n",
    "plt.ylabel(\"True\")\n",
    "plt.show()\n"
   ]
  },
  {
   "cell_type": "markdown",
   "id": "1c408c00-0d03-4126-974f-37ae6cfd2b95",
   "metadata": {},
   "source": [
    "### **KD Distribution**"
   ]
  },
  {
   "cell_type": "code",
   "execution_count": 23,
   "id": "c6f0808e-b450-4395-852d-f222712c9bd1",
   "metadata": {},
   "outputs": [
    {
     "data": {
      "image/png": "[encoded data removed]",
      "text/plain": [
       "<Figure size 1000x600 with 1 Axes>"
      ]
     },
     "metadata": {},
     "output_type": "display_data"
    }
   ],
   "source": [
    "# Visualization of KD vs Survival Time\n",
    "plt.figure(figsize=(10, 6))\n",
    "sns.boxplot(data=train_df, x='SurvivalTime', y='KD', palette='pastel')\n",
    "plt.title(\"KD Ratio Distribution by Survival Time\")\n",
    "plt.xlabel(\"Survival Time Category\")\n",
    "plt.ylabel(\"Kill-Death (KD) Ratio\")\n",
    "plt.show()\n"
   ]
  },
  {
   "cell_type": "code",
   "execution_count": 21,
   "id": "53d5d343-05b2-42bf-91a6-aaca19630e9a",
   "metadata": {},
   "outputs": [
    {
     "data": {
      "image/png": "[encoded data removed]",
      "text/plain": [
       "<Figure size 1000x600 with 1 Axes>"
      ]
     },
     "metadata": {},
     "output_type": "display_data"
    }
   ],
   "source": [
    "# Calculate Avg KD\n",
    "avg_kd = df['KD'].mean()\n",
    "\n",
    "plt.figure(figsize=(10, 6))\n",
    "sns.set(style=\"darkgrid\")\n",
    "sns.kdeplot(df['KD'], fill=True, color='mediumseagreen', linewidth=2)\n",
    "plt.axvline(avg_kd, color='crimson', linestyle='--', linewidth=2, label=f'Average KD: {avg_kd:.2f}')\n",
    "plt.title(\"Player KD Distribution\", fontsize=16, weight='bold')\n",
    "plt.xlabel(\"KD Ratio\")\n",
    "plt.ylabel(\"Density\")\n",
    "plt.legend()\n",
    "plt.tight_layout()\n",
    "plt.show()\n"
   ]
  },
  {
   "cell_type": "code",
   "execution_count": 22,
   "id": "1056cc44-56a1-400d-a35b-b294016d2d33",
   "metadata": {},
   "outputs": [
    {
     "data": {
      "image/png": "[encoded data removed]",
      "text/plain": [
       "<Figure size 1200x600 with 1 Axes>"
      ]
     },
     "metadata": {},
     "output_type": "display_data"
    }
   ],
   "source": [
    "tier_order = sorted(df['Tier'].unique())\n",
    "plt.figure(figsize=(12, 6))\n",
    "sns.set(style=\"ticks\")\n",
    "sns.boxplot(data=df, x='Tier', y='KD', palette='coolwarm', order=tier_order)\n",
    "plt.title(\"KD Ratio by Tier\", fontsize=16, weight='bold')\n",
    "plt.xlabel(\"Tier\")\n",
    "plt.ylabel(\"KD Ratio\")\n",
    "plt.xticks(rotation=45)\n",
    "plt.tight_layout()\n",
    "plt.show()"
   ]
  },
  {
   "cell_type": "markdown",
   "id": "8554eb32-c102-4cf2-be27-216dba0f9f7e",
   "metadata": {},
   "source": [
    "### **Basic Visualization by Server/Region**"
   ]
  },
  {
   "cell_type": "code",
   "execution_count": 24,
   "id": "f9dfb156-50c4-437d-8e52-3542c109def2",
   "metadata": {},
   "outputs": [
    {
     "data": {
      "image/png": "[encoded data removed]",
      "text/plain": [
       "<Figure size 1000x600 with 1 Axes>"
      ]
     },
     "metadata": {},
     "output_type": "display_data"
    }
   ],
   "source": [
    "import matplotlib.pyplot as plt\n",
    "import seaborn as sns\n",
    "\n",
    "sns.set_theme(style=\"whitegrid\", palette=\"Set2\")\n",
    "df_kd = df[['Server', 'KD', 'Experience']].dropna()\n",
    "server_stats = df_kd.groupby('Server').mean().reset_index()\n",
    "\n",
    "plt.figure(figsize=(10, 6))\n",
    "bar1 = sns.barplot(data=server_stats, x='Server', y='KD', label='Avg KD')\n",
    "bar2 = sns.barplot(data=server_stats, x='Server', y='Experience', color='skyblue', label='Avg Survival Time')\n",
    "plt.title('Average KD and Survival Time by Server', fontsize=14)\n",
    "plt.ylabel('Average Value')\n",
    "plt.xlabel('Server Region')\n",
    "plt.legend(title=\"Metric\")\n",
    "plt.xticks(rotation=45)\n",
    "plt.tight_layout()\n",
    "plt.show()"
   ]
  },
  {
   "cell_type": "code",
   "execution_count": 26,
   "id": "602e98f3-8e08-4d29-88c9-2b8047da0a5a",
   "metadata": {},
   "outputs": [
    {
     "data": {
      "application/vnd.plotly.v1+json": {
       "config": {
        "plotlyServerURL": "https://plot.ly"
       },
       "data": [
        {
         "hovertemplate": "<b>%{hovertext}</b><br><br>Server=%{x}<br>Number of Players=%{marker.size}<extra></extra>",
         "hovertext": [
          "America"
         ],
         "legendgroup": "America",
         "marker": {
          "color": "#636efa",
          "size": [
           95
          ],
          "sizemode": "area",
          "sizeref": 0.2375,
          "symbol": "circle"
         },
         "mode": "markers",
         "name": "America",
         "orientation": "v",
         "showlegend": true,
         "type": "scatter",
         "x": [
          "America"
         ],
         "xaxis": "x",
         "y": [
          95
         ],
         "yaxis": "y"
        },
        {
         "hovertemplate": "<b>%{hovertext}</b><br><br>Server=%{x}<br>Number of Players=%{marker.size}<extra></extra>",
         "hovertext": [
          "Asia"
         ],
         "legendgroup": "Asia",
         "marker": {
          "color": "#EF553B",
          "size": [
           94
          ],
          "sizemode": "area",
          "sizeref": 0.2375,
          "symbol": "circle"
         },
         "mode": "markers",
         "name": "Asia",
         "orientation": "v",
         "showlegend": true,
         "type": "scatter",
         "x": [
          "Asia"
         ],
         "xaxis": "x",
         "y": [
          94
         ],
         "yaxis": "y"
        },
        {
         "hovertemplate": "<b>%{hovertext}</b><br><br>Server=%{x}<br>Number of Players=%{marker.size}<extra></extra>",
         "hovertext": [
          "Middle_East"
         ],
         "legendgroup": "Middle_East",
         "marker": {
          "color": "#00cc96",
          "size": [
           86
          ],
          "sizemode": "area",
          "sizeref": 0.2375,
          "symbol": "circle"
         },
         "mode": "markers",
         "name": "Middle_East",
         "orientation": "v",
         "showlegend": true,
         "type": "scatter",
         "x": [
          "Middle_East"
         ],
         "xaxis": "x",
         "y": [
          86
         ],
         "yaxis": "y"
        },
        {
         "hovertemplate": "<b>%{hovertext}</b><br><br>Server=%{x}<br>Number of Players=%{marker.size}<extra></extra>",
         "hovertext": [
          "Europe"
         ],
         "legendgroup": "Europe",
         "marker": {
          "color": "#ab63fa",
          "size": [
           73
          ],
          "sizemode": "area",
          "sizeref": 0.2375,
          "symbol": "circle"
         },
         "mode": "markers",
         "name": "Europe",
         "orientation": "v",
         "showlegend": true,
         "type": "scatter",
         "x": [
          "Europe"
         ],
         "xaxis": "x",
         "y": [
          73
         ],
         "yaxis": "y"
        },
        {
         "hovertemplate": "<b>%{hovertext}</b><br><br>Server=%{x}<br>Number of Players=%{marker.size}<extra></extra>",
         "hovertext": [
          "Australia"
         ],
         "legendgroup": "Australia",
         "marker": {
          "color": "#FFA15A",
          "size": [
           70
          ],
          "sizemode": "area",
          "sizeref": 0.2375,
          "symbol": "circle"
         },
         "mode": "markers",
         "name": "Australia",
         "orientation": "v",
         "showlegend": true,
         "type": "scatter",
         "x": [
          "Australia"
         ],
         "xaxis": "x",
         "y": [
          70
         ],
         "yaxis": "y"
        }
       ],
       "layout": {
        "autosize": true,
        "legend": {
         "itemsizing": "constant",
         "title": {
          "text": "Server"
         },
         "tracegroupgap": 0
        },
        "template": {
         "data": {
          "bar": [
           {
            "error_x": {
             "color": "#f2f5fa"
            },
            "error_y": {
             "color": "#f2f5fa"
            },
            "marker": {
             "line": {
              "color": "rgb(17,17,17)",
              "width": 0.5
             },
             "pattern": {
              "fillmode": "overlay",
              "size": 10,
              "solidity": 0.2
             }
            },
            "type": "bar"
           }
          ],
          "barpolar": [
           {
            "marker": {
             "line": {
              "color": "rgb(17,17,17)",
              "width": 0.5
             },
             "pattern": {
              "fillmode": "overlay",
              "size": 10,
              "solidity": 0.2
             }
            },
            "type": "barpolar"
           }
          ],
          "carpet": [
           {
            "aaxis": {
             "endlinecolor": "#A2B1C6",
             "gridcolor": "#506784",
             "linecolor": "#506784",
             "minorgridcolor": "#506784",
             "startlinecolor": "#A2B1C6"
            },
            "baxis": {
             "endlinecolor": "#A2B1C6",
             "gridcolor": "#506784",
             "linecolor": "#506784",
             "minorgridcolor": "#506784",
             "startlinecolor": "#A2B1C6"
            },
            "type": "carpet"
           }
          ],
          "choropleth": [
           {
            "colorbar": {
             "outlinewidth": 0,
             "ticks": ""
            },
            "type": "choropleth"
           }
          ],
          "contour": [
           {
            "colorbar": {
             "outlinewidth": 0,
             "ticks": ""
            },
            "colorscale": [
             [
              0,
              "#0d0887"
             ],
             [
              0.1111111111111111,
              "#46039f"
             ],
             [
              0.2222222222222222,
              "#7201a8"
             ],
             [
              0.3333333333333333,
              "#9c179e"
             ],
             [
              0.4444444444444444,
              "#bd3786"
             ],
             [
              0.5555555555555556,
              "#d8576b"
             ],
             [
              0.6666666666666666,
              "#ed7953"
             ],
             [
              0.7777777777777778,
              "#fb9f3a"
             ],
             [
              0.8888888888888888,
              "#fdca26"
             ],
             [
              1,
              "#f0f921"
             ]
            ],
            "type": "contour"
           }
          ],
          "contourcarpet": [
           {
            "colorbar": {
             "outlinewidth": 0,
             "ticks": ""
            },
            "type": "contourcarpet"
           }
          ],
          "heatmap": [
           {
            "colorbar": {
             "outlinewidth": 0,
             "ticks": ""
            },
            "colorscale": [
             [
              0,
              "#0d0887"
             ],
             [
              0.1111111111111111,
              "#46039f"
             ],
             [
              0.2222222222222222,
              "#7201a8"
             ],
             [
              0.3333333333333333,
              "#9c179e"
             ],
             [
              0.4444444444444444,
              "#bd3786"
             ],
             [
              0.5555555555555556,
              "#d8576b"
             ],
             [
              0.6666666666666666,
              "#ed7953"
             ],
             [
              0.7777777777777778,
              "#fb9f3a"
             ],
             [
              0.8888888888888888,
              "#fdca26"
             ],
             [
              1,
              "#f0f921"
             ]
            ],
            "type": "heatmap"
           }
          ],
          "heatmapgl": [
           {
            "colorbar": {
             "outlinewidth": 0,
             "ticks": ""
            },
            "colorscale": [
             [
              0,
              "#0d0887"
             ],
             [
              0.1111111111111111,
              "#46039f"
             ],
             [
              0.2222222222222222,
              "#7201a8"
             ],
             [
              0.3333333333333333,
              "#9c179e"
             ],
             [
              0.4444444444444444,
              "#bd3786"
             ],
             [
              0.5555555555555556,
              "#d8576b"
             ],
             [
              0.6666666666666666,
              "#ed7953"
             ],
             [
              0.7777777777777778,
              "#fb9f3a"
             ],
             [
              0.8888888888888888,
              "#fdca26"
             ],
             [
              1,
              "#f0f921"
             ]
            ],
            "type": "heatmapgl"
           }
          ],
          "histogram": [
           {
            "marker": {
             "pattern": {
              "fillmode": "overlay",
              "size": 10,
              "solidity": 0.2
             }
            },
            "type": "histogram"
           }
          ],
          "histogram2d": [
           {
            "colorbar": {
             "outlinewidth": 0,
             "ticks": ""
            },
            "colorscale": [
             [
              0,
              "#0d0887"
             ],
             [
              0.1111111111111111,
              "#46039f"
             ],
             [
              0.2222222222222222,
              "#7201a8"
             ],
             [
              0.3333333333333333,
              "#9c179e"
             ],
             [
              0.4444444444444444,
              "#bd3786"
             ],
             [
              0.5555555555555556,
              "#d8576b"
             ],
             [
              0.6666666666666666,
              "#ed7953"
             ],
             [
              0.7777777777777778,
              "#fb9f3a"
             ],
             [
              0.8888888888888888,
              "#fdca26"
             ],
             [
              1,
              "#f0f921"
             ]
            ],
            "type": "histogram2d"
           }
          ],
          "histogram2dcontour": [
           {
            "colorbar": {
             "outlinewidth": 0,
             "ticks": ""
            },
            "colorscale": [
             [
              0,
              "#0d0887"
             ],
             [
              0.1111111111111111,
              "#46039f"
             ],
             [
              0.2222222222222222,
              "#7201a8"
             ],
             [
              0.3333333333333333,
              "#9c179e"
             ],
             [
              0.4444444444444444,
              "#bd3786"
             ],
             [
              0.5555555555555556,
              "#d8576b"
             ],
             [
              0.6666666666666666,
              "#ed7953"
             ],
             [
              0.7777777777777778,
              "#fb9f3a"
             ],
             [
              0.8888888888888888,
              "#fdca26"
             ],
             [
              1,
              "#f0f921"
             ]
            ],
            "type": "histogram2dcontour"
           }
          ],
          "mesh3d": [
           {
            "colorbar": {
             "outlinewidth": 0,
             "ticks": ""
            },
            "type": "mesh3d"
           }
          ],
          "parcoords": [
           {
            "line": {
             "colorbar": {
              "outlinewidth": 0,
              "ticks": ""
             }
            },
            "type": "parcoords"
           }
          ],
          "pie": [
           {
            "automargin": true,
            "type": "pie"
           }
          ],
          "scatter": [
           {
            "marker": {
             "line": {
              "color": "#283442"
             }
            },
            "type": "scatter"
           }
          ],
          "scatter3d": [
           {
            "line": {
             "colorbar": {
              "outlinewidth": 0,
              "ticks": ""
             }
            },
            "marker": {
             "colorbar": {
              "outlinewidth": 0,
              "ticks": ""
             }
            },
            "type": "scatter3d"
           }
          ],
          "scattercarpet": [
           {
            "marker": {
             "colorbar": {
              "outlinewidth": 0,
              "ticks": ""
             }
            },
            "type": "scattercarpet"
           }
          ],
          "scattergeo": [
           {
            "marker": {
             "colorbar": {
              "outlinewidth": 0,
              "ticks": ""
             }
            },
            "type": "scattergeo"
           }
          ],
          "scattergl": [
           {
            "marker": {
             "line": {
              "color": "#283442"
             }
            },
            "type": "scattergl"
           }
          ],
          "scattermapbox": [
           {
            "marker": {
             "colorbar": {
              "outlinewidth": 0,
              "ticks": ""
             }
            },
            "type": "scattermapbox"
           }
          ],
          "scatterpolar": [
           {
            "marker": {
             "colorbar": {
              "outlinewidth": 0,
              "ticks": ""
             }
            },
            "type": "scatterpolar"
           }
          ],
          "scatterpolargl": [
           {
            "marker": {
             "colorbar": {
              "outlinewidth": 0,
              "ticks": ""
             }
            },
            "type": "scatterpolargl"
           }
          ],
          "scatterternary": [
           {
            "marker": {
             "colorbar": {
              "outlinewidth": 0,
              "ticks": ""
             }
            },
            "type": "scatterternary"
           }
          ],
          "surface": [
           {
            "colorbar": {
             "outlinewidth": 0,
             "ticks": ""
            },
            "colorscale": [
             [
              0,
              "#0d0887"
             ],
             [
              0.1111111111111111,
              "#46039f"
             ],
             [
              0.2222222222222222,
              "#7201a8"
             ],
             [
              0.3333333333333333,
              "#9c179e"
             ],
             [
              0.4444444444444444,
              "#bd3786"
             ],
             [
              0.5555555555555556,
              "#d8576b"
             ],
             [
              0.6666666666666666,
              "#ed7953"
             ],
             [
              0.7777777777777778,
              "#fb9f3a"
             ],
             [
              0.8888888888888888,
              "#fdca26"
             ],
             [
              1,
              "#f0f921"
             ]
            ],
            "type": "surface"
           }
          ],
          "table": [
           {
            "cells": {
             "fill": {
              "color": "#506784"
             },
             "line": {
              "color": "rgb(17,17,17)"
             }
            },
            "header": {
             "fill": {
              "color": "#2a3f5f"
             },
             "line": {
              "color": "rgb(17,17,17)"
             }
            },
            "type": "table"
           }
          ]
         },
         "layout": {
          "annotationdefaults": {
           "arrowcolor": "#f2f5fa",
           "arrowhead": 0,
           "arrowwidth": 1
          },
          "autotypenumbers": "strict",
          "coloraxis": {
           "colorbar": {
            "outlinewidth": 0,
            "ticks": ""
           }
          },
          "colorscale": {
           "diverging": [
            [
             0,
             "#8e0152"
            ],
            [
             0.1,
             "#c51b7d"
            ],
            [
             0.2,
             "#de77ae"
            ],
            [
             0.3,
             "#f1b6da"
            ],
            [
             0.4,
             "#fde0ef"
            ],
            [
             0.5,
             "#f7f7f7"
            ],
            [
             0.6,
             "#e6f5d0"
            ],
            [
             0.7,
             "#b8e186"
            ],
            [
             0.8,
             "#7fbc41"
            ],
            [
             0.9,
             "#4d9221"
            ],
            [
             1,
             "#276419"
            ]
           ],
           "sequential": [
            [
             0,
             "#0d0887"
            ],
            [
             0.1111111111111111,
             "#46039f"
            ],
            [
             0.2222222222222222,
             "#7201a8"
            ],
            [
             0.3333333333333333,
             "#9c179e"
            ],
            [
             0.4444444444444444,
             "#bd3786"
            ],
            [
             0.5555555555555556,
             "#d8576b"
            ],
            [
             0.6666666666666666,
             "#ed7953"
            ],
            [
             0.7777777777777778,
             "#fb9f3a"
            ],
            [
             0.8888888888888888,
             "#fdca26"
            ],
            [
             1,
             "#f0f921"
            ]
           ],
           "sequentialminus": [
            [
             0,
             "#0d0887"
            ],
            [
             0.1111111111111111,
             "#46039f"
            ],
            [
             0.2222222222222222,
             "#7201a8"
            ],
            [
             0.3333333333333333,
             "#9c179e"
            ],
            [
             0.4444444444444444,
             "#bd3786"
            ],
            [
             0.5555555555555556,
             "#d8576b"
            ],
            [
             0.6666666666666666,
             "#ed7953"
            ],
            [
             0.7777777777777778,
             "#fb9f3a"
            ],
            [
             0.8888888888888888,
             "#fdca26"
            ],
            [
             1,
             "#f0f921"
            ]
           ]
          },
          "colorway": [
           "#636efa",
           "#EF553B",
           "#00cc96",
           "#ab63fa",
           "#FFA15A",
           "#19d3f3",
           "#FF6692",
           "#B6E880",
           "#FF97FF",
           "#FECB52"
          ],
          "font": {
           "color": "#f2f5fa"
          },
          "geo": {
           "bgcolor": "rgb(17,17,17)",
           "lakecolor": "rgb(17,17,17)",
           "landcolor": "rgb(17,17,17)",
           "showlakes": true,
           "showland": true,
           "subunitcolor": "#506784"
          },
          "hoverlabel": {
           "align": "left"
          },
          "hovermode": "closest",
          "mapbox": {
           "style": "dark"
          },
          "paper_bgcolor": "rgb(17,17,17)",
          "plot_bgcolor": "rgb(17,17,17)",
          "polar": {
           "angularaxis": {
            "gridcolor": "#506784",
            "linecolor": "#506784",
            "ticks": ""
           },
           "bgcolor": "rgb(17,17,17)",
           "radialaxis": {
            "gridcolor": "#506784",
            "linecolor": "#506784",
            "ticks": ""
           }
          },
          "scene": {
           "xaxis": {
            "backgroundcolor": "rgb(17,17,17)",
            "gridcolor": "#506784",
            "gridwidth": 2,
            "linecolor": "#506784",
            "showbackground": true,
            "ticks": "",
            "zerolinecolor": "#C8D4E3"
           },
           "yaxis": {
            "backgroundcolor": "rgb(17,17,17)",
            "gridcolor": "#506784",
            "gridwidth": 2,
            "linecolor": "#506784",
            "showbackground": true,
            "ticks": "",
            "zerolinecolor": "#C8D4E3"
           },
           "zaxis": {
            "backgroundcolor": "rgb(17,17,17)",
            "gridcolor": "#506784",
            "gridwidth": 2,
            "linecolor": "#506784",
            "showbackground": true,
            "ticks": "",
            "zerolinecolor": "#C8D4E3"
           }
          },
          "shapedefaults": {
           "line": {
            "color": "#f2f5fa"
           }
          },
          "sliderdefaults": {
           "bgcolor": "#C8D4E3",
           "bordercolor": "rgb(17,17,17)",
           "borderwidth": 1,
           "tickwidth": 0
          },
          "ternary": {
           "aaxis": {
            "gridcolor": "#506784",
            "linecolor": "#506784",
            "ticks": ""
           },
           "baxis": {
            "gridcolor": "#506784",
            "linecolor": "#506784",
            "ticks": ""
           },
           "bgcolor": "rgb(17,17,17)",
           "caxis": {
            "gridcolor": "#506784",
            "linecolor": "#506784",
            "ticks": ""
           }
          },
          "title": {
           "x": 0.05
          },
          "updatemenudefaults": {
           "bgcolor": "#506784",
           "borderwidth": 0
          },
          "xaxis": {
           "automargin": true,
           "gridcolor": "#283442",
           "linecolor": "#506784",
           "ticks": "",
           "title": {
            "standoff": 15
           },
           "zerolinecolor": "#283442",
           "zerolinewidth": 2
          },
          "yaxis": {
           "automargin": true,
           "gridcolor": "#283442",
           "linecolor": "#506784",
           "ticks": "",
           "title": {
            "standoff": 15
           },
           "zerolinecolor": "#283442",
           "zerolinewidth": 2
          }
         }
        },
        "title": {
         "text": "Player Count by Server Region"
        },
        "xaxis": {
         "anchor": "y",
         "autorange": true,
         "categoryarray": [
          "America",
          "Asia",
          "Middle_East",
          "Europe",
          "Australia"
         ],
         "categoryorder": "array",
         "domain": [
          0,
          1
         ],
         "range": [
          -0.314259944763839,
          4.302446608136848
         ],
         "title": {
          "text": "Server"
         },
         "type": "category"
        },
        "yaxis": {
         "anchor": "x",
         "autorange": true,
         "domain": [
          0,
          1
         ],
         "range": [
          65.74478478160614,
          99.67729233904994
         ],
         "title": {
          "text": "Number of Players"
         },
         "type": "linear"
        }
       }
      },
      "image/png": "[encoded data removed]",
      "text/html": [
       "<div>                            <div id=\"e92956fe-5648-415e-84ff-5eb399b09f79\" class=\"plotly-graph-div\" style=\"height:525px; width:100%;\"></div>            <script type=\"text/javascript\">                require([\"plotly\"], function(Plotly) {                    window.PLOTLYENV=window.PLOTLYENV || {};                                    if (document.getElementById(\"e92956fe-5648-415e-84ff-5eb399b09f79\")) {                    Plotly.newPlot(                        \"e92956fe-5648-415e-84ff-5eb399b09f79\",                        [{\"hovertemplate\":\"\\u003cb\\u003e%{hovertext}\\u003c\\u002fb\\u003e\\u003cbr\\u003e\\u003cbr\\u003eServer=%{x}\\u003cbr\\u003eNumber of Players=%{marker.size}\\u003cextra\\u003e\\u003c\\u002fextra\\u003e\",\"hovertext\":[\"America\"],\"legendgroup\":\"America\",\"marker\":{\"color\":\"#636efa\",\"size\":[95],\"sizemode\":\"area\",\"sizeref\":0.2375,\"symbol\":\"circle\"},\"mode\":\"markers\",\"name\":\"America\",\"orientation\":\"v\",\"showlegend\":true,\"x\":[\"America\"],\"xaxis\":\"x\",\"y\":[95],\"yaxis\":\"y\",\"type\":\"scatter\"},{\"hovertemplate\":\"\\u003cb\\u003e%{hovertext}\\u003c\\u002fb\\u003e\\u003cbr\\u003e\\u003cbr\\u003eServer=%{x}\\u003cbr\\u003eNumber of Players=%{marker.size}\\u003cextra\\u003e\\u003c\\u002fextra\\u003e\",\"hovertext\":[\"Asia\"],\"legendgroup\":\"Asia\",\"marker\":{\"color\":\"#EF553B\",\"size\":[94],\"sizemode\":\"area\",\"sizeref\":0.2375,\"symbol\":\"circle\"},\"mode\":\"markers\",\"name\":\"Asia\",\"orientation\":\"v\",\"showlegend\":true,\"x\":[\"Asia\"],\"xaxis\":\"x\",\"y\":[94],\"yaxis\":\"y\",\"type\":\"scatter\"},{\"hovertemplate\":\"\\u003cb\\u003e%{hovertext}\\u003c\\u002fb\\u003e\\u003cbr\\u003e\\u003cbr\\u003eServer=%{x}\\u003cbr\\u003eNumber of Players=%{marker.size}\\u003cextra\\u003e\\u003c\\u002fextra\\u003e\",\"hovertext\":[\"Middle_East\"],\"legendgroup\":\"Middle_East\",\"marker\":{\"color\":\"#00cc96\",\"size\":[86],\"sizemode\":\"area\",\"sizeref\":0.2375,\"symbol\":\"circle\"},\"mode\":\"markers\",\"name\":\"Middle_East\",\"orientation\":\"v\",\"showlegend\":true,\"x\":[\"Middle_East\"],\"xaxis\":\"x\",\"y\":[86],\"yaxis\":\"y\",\"type\":\"scatter\"},{\"hovertemplate\":\"\\u003cb\\u003e%{hovertext}\\u003c\\u002fb\\u003e\\u003cbr\\u003e\\u003cbr\\u003eServer=%{x}\\u003cbr\\u003eNumber of Players=%{marker.size}\\u003cextra\\u003e\\u003c\\u002fextra\\u003e\",\"hovertext\":[\"Europe\"],\"legendgroup\":\"Europe\",\"marker\":{\"color\":\"#ab63fa\",\"size\":[73],\"sizemode\":\"area\",\"sizeref\":0.2375,\"symbol\":\"circle\"},\"mode\":\"markers\",\"name\":\"Europe\",\"orientation\":\"v\",\"showlegend\":true,\"x\":[\"Europe\"],\"xaxis\":\"x\",\"y\":[73],\"yaxis\":\"y\",\"type\":\"scatter\"},{\"hovertemplate\":\"\\u003cb\\u003e%{hovertext}\\u003c\\u002fb\\u003e\\u003cbr\\u003e\\u003cbr\\u003eServer=%{x}\\u003cbr\\u003eNumber of Players=%{marker.size}\\u003cextra\\u003e\\u003c\\u002fextra\\u003e\",\"hovertext\":[\"Australia\"],\"legendgroup\":\"Australia\",\"marker\":{\"color\":\"#FFA15A\",\"size\":[70],\"sizemode\":\"area\",\"sizeref\":0.2375,\"symbol\":\"circle\"},\"mode\":\"markers\",\"name\":\"Australia\",\"orientation\":\"v\",\"showlegend\":true,\"x\":[\"Australia\"],\"xaxis\":\"x\",\"y\":[70],\"yaxis\":\"y\",\"type\":\"scatter\"}],                        {\"template\":{\"data\":{\"barpolar\":[{\"marker\":{\"line\":{\"color\":\"rgb(17,17,17)\",\"width\":0.5},\"pattern\":{\"fillmode\":\"overlay\",\"size\":10,\"solidity\":0.2}},\"type\":\"barpolar\"}],\"bar\":[{\"error_x\":{\"color\":\"#f2f5fa\"},\"error_y\":{\"color\":\"#f2f5fa\"},\"marker\":{\"line\":{\"color\":\"rgb(17,17,17)\",\"width\":0.5},\"pattern\":{\"fillmode\":\"overlay\",\"size\":10,\"solidity\":0.2}},\"type\":\"bar\"}],\"carpet\":[{\"aaxis\":{\"endlinecolor\":\"#A2B1C6\",\"gridcolor\":\"#506784\",\"linecolor\":\"#506784\",\"minorgridcolor\":\"#506784\",\"startlinecolor\":\"#A2B1C6\"},\"baxis\":{\"endlinecolor\":\"#A2B1C6\",\"gridcolor\":\"#506784\",\"linecolor\":\"#506784\",\"minorgridcolor\":\"#506784\",\"startlinecolor\":\"#A2B1C6\"},\"type\":\"carpet\"}],\"choropleth\":[{\"colorbar\":{\"outlinewidth\":0,\"ticks\":\"\"},\"type\":\"choropleth\"}],\"contourcarpet\":[{\"colorbar\":{\"outlinewidth\":0,\"ticks\":\"\"},\"type\":\"contourcarpet\"}],\"contour\":[{\"colorbar\":{\"outlinewidth\":0,\"ticks\":\"\"},\"colorscale\":[[0.0,\"#0d0887\"],[0.1111111111111111,\"#46039f\"],[0.2222222222222222,\"#7201a8\"],[0.3333333333333333,\"#9c179e\"],[0.4444444444444444,\"#bd3786\"],[0.5555555555555556,\"#d8576b\"],[0.6666666666666666,\"#ed7953\"],[0.7777777777777778,\"#fb9f3a\"],[0.8888888888888888,\"#fdca26\"],[1.0,\"#f0f921\"]],\"type\":\"contour\"}],\"heatmapgl\":[{\"colorbar\":{\"outlinewidth\":0,\"ticks\":\"\"},\"colorscale\":[[0.0,\"#0d0887\"],[0.1111111111111111,\"#46039f\"],[0.2222222222222222,\"#7201a8\"],[0.3333333333333333,\"#9c179e\"],[0.4444444444444444,\"#bd3786\"],[0.5555555555555556,\"#d8576b\"],[0.6666666666666666,\"#ed7953\"],[0.7777777777777778,\"#fb9f3a\"],[0.8888888888888888,\"#fdca26\"],[1.0,\"#f0f921\"]],\"type\":\"heatmapgl\"}],\"heatmap\":[{\"colorbar\":{\"outlinewidth\":0,\"ticks\":\"\"},\"colorscale\":[[0.0,\"#0d0887\"],[0.1111111111111111,\"#46039f\"],[0.2222222222222222,\"#7201a8\"],[0.3333333333333333,\"#9c179e\"],[0.4444444444444444,\"#bd3786\"],[0.5555555555555556,\"#d8576b\"],[0.6666666666666666,\"#ed7953\"],[0.7777777777777778,\"#fb9f3a\"],[0.8888888888888888,\"#fdca26\"],[1.0,\"#f0f921\"]],\"type\":\"heatmap\"}],\"histogram2dcontour\":[{\"colorbar\":{\"outlinewidth\":0,\"ticks\":\"\"},\"colorscale\":[[0.0,\"#0d0887\"],[0.1111111111111111,\"#46039f\"],[0.2222222222222222,\"#7201a8\"],[0.3333333333333333,\"#9c179e\"],[0.4444444444444444,\"#bd3786\"],[0.5555555555555556,\"#d8576b\"],[0.6666666666666666,\"#ed7953\"],[0.7777777777777778,\"#fb9f3a\"],[0.8888888888888888,\"#fdca26\"],[1.0,\"#f0f921\"]],\"type\":\"histogram2dcontour\"}],\"histogram2d\":[{\"colorbar\":{\"outlinewidth\":0,\"ticks\":\"\"},\"colorscale\":[[0.0,\"#0d0887\"],[0.1111111111111111,\"#46039f\"],[0.2222222222222222,\"#7201a8\"],[0.3333333333333333,\"#9c179e\"],[0.4444444444444444,\"#bd3786\"],[0.5555555555555556,\"#d8576b\"],[0.6666666666666666,\"#ed7953\"],[0.7777777777777778,\"#fb9f3a\"],[0.8888888888888888,\"#fdca26\"],[1.0,\"#f0f921\"]],\"type\":\"histogram2d\"}],\"histogram\":[{\"marker\":{\"pattern\":{\"fillmode\":\"overlay\",\"size\":10,\"solidity\":0.2}},\"type\":\"histogram\"}],\"mesh3d\":[{\"colorbar\":{\"outlinewidth\":0,\"ticks\":\"\"},\"type\":\"mesh3d\"}],\"parcoords\":[{\"line\":{\"colorbar\":{\"outlinewidth\":0,\"ticks\":\"\"}},\"type\":\"parcoords\"}],\"pie\":[{\"automargin\":true,\"type\":\"pie\"}],\"scatter3d\":[{\"line\":{\"colorbar\":{\"outlinewidth\":0,\"ticks\":\"\"}},\"marker\":{\"colorbar\":{\"outlinewidth\":0,\"ticks\":\"\"}},\"type\":\"scatter3d\"}],\"scattercarpet\":[{\"marker\":{\"colorbar\":{\"outlinewidth\":0,\"ticks\":\"\"}},\"type\":\"scattercarpet\"}],\"scattergeo\":[{\"marker\":{\"colorbar\":{\"outlinewidth\":0,\"ticks\":\"\"}},\"type\":\"scattergeo\"}],\"scattergl\":[{\"marker\":{\"line\":{\"color\":\"#283442\"}},\"type\":\"scattergl\"}],\"scattermapbox\":[{\"marker\":{\"colorbar\":{\"outlinewidth\":0,\"ticks\":\"\"}},\"type\":\"scattermapbox\"}],\"scatterpolargl\":[{\"marker\":{\"colorbar\":{\"outlinewidth\":0,\"ticks\":\"\"}},\"type\":\"scatterpolargl\"}],\"scatterpolar\":[{\"marker\":{\"colorbar\":{\"outlinewidth\":0,\"ticks\":\"\"}},\"type\":\"scatterpolar\"}],\"scatter\":[{\"marker\":{\"line\":{\"color\":\"#283442\"}},\"type\":\"scatter\"}],\"scatterternary\":[{\"marker\":{\"colorbar\":{\"outlinewidth\":0,\"ticks\":\"\"}},\"type\":\"scatterternary\"}],\"surface\":[{\"colorbar\":{\"outlinewidth\":0,\"ticks\":\"\"},\"colorscale\":[[0.0,\"#0d0887\"],[0.1111111111111111,\"#46039f\"],[0.2222222222222222,\"#7201a8\"],[0.3333333333333333,\"#9c179e\"],[0.4444444444444444,\"#bd3786\"],[0.5555555555555556,\"#d8576b\"],[0.6666666666666666,\"#ed7953\"],[0.7777777777777778,\"#fb9f3a\"],[0.8888888888888888,\"#fdca26\"],[1.0,\"#f0f921\"]],\"type\":\"surface\"}],\"table\":[{\"cells\":{\"fill\":{\"color\":\"#506784\"},\"line\":{\"color\":\"rgb(17,17,17)\"}},\"header\":{\"fill\":{\"color\":\"#2a3f5f\"},\"line\":{\"color\":\"rgb(17,17,17)\"}},\"type\":\"table\"}]},\"layout\":{\"annotationdefaults\":{\"arrowcolor\":\"#f2f5fa\",\"arrowhead\":0,\"arrowwidth\":1},\"autotypenumbers\":\"strict\",\"coloraxis\":{\"colorbar\":{\"outlinewidth\":0,\"ticks\":\"\"}},\"colorscale\":{\"diverging\":[[0,\"#8e0152\"],[0.1,\"#c51b7d\"],[0.2,\"#de77ae\"],[0.3,\"#f1b6da\"],[0.4,\"#fde0ef\"],[0.5,\"#f7f7f7\"],[0.6,\"#e6f5d0\"],[0.7,\"#b8e186\"],[0.8,\"#7fbc41\"],[0.9,\"#4d9221\"],[1,\"#276419\"]],\"sequential\":[[0.0,\"#0d0887\"],[0.1111111111111111,\"#46039f\"],[0.2222222222222222,\"#7201a8\"],[0.3333333333333333,\"#9c179e\"],[0.4444444444444444,\"#bd3786\"],[0.5555555555555556,\"#d8576b\"],[0.6666666666666666,\"#ed7953\"],[0.7777777777777778,\"#fb9f3a\"],[0.8888888888888888,\"#fdca26\"],[1.0,\"#f0f921\"]],\"sequentialminus\":[[0.0,\"#0d0887\"],[0.1111111111111111,\"#46039f\"],[0.2222222222222222,\"#7201a8\"],[0.3333333333333333,\"#9c179e\"],[0.4444444444444444,\"#bd3786\"],[0.5555555555555556,\"#d8576b\"],[0.6666666666666666,\"#ed7953\"],[0.7777777777777778,\"#fb9f3a\"],[0.8888888888888888,\"#fdca26\"],[1.0,\"#f0f921\"]]},\"colorway\":[\"#636efa\",\"#EF553B\",\"#00cc96\",\"#ab63fa\",\"#FFA15A\",\"#19d3f3\",\"#FF6692\",\"#B6E880\",\"#FF97FF\",\"#FECB52\"],\"font\":{\"color\":\"#f2f5fa\"},\"geo\":{\"bgcolor\":\"rgb(17,17,17)\",\"lakecolor\":\"rgb(17,17,17)\",\"landcolor\":\"rgb(17,17,17)\",\"showlakes\":true,\"showland\":true,\"subunitcolor\":\"#506784\"},\"hoverlabel\":{\"align\":\"left\"},\"hovermode\":\"closest\",\"mapbox\":{\"style\":\"dark\"},\"paper_bgcolor\":\"rgb(17,17,17)\",\"plot_bgcolor\":\"rgb(17,17,17)\",\"polar\":{\"angularaxis\":{\"gridcolor\":\"#506784\",\"linecolor\":\"#506784\",\"ticks\":\"\"},\"bgcolor\":\"rgb(17,17,17)\",\"radialaxis\":{\"gridcolor\":\"#506784\",\"linecolor\":\"#506784\",\"ticks\":\"\"}},\"scene\":{\"xaxis\":{\"backgroundcolor\":\"rgb(17,17,17)\",\"gridcolor\":\"#506784\",\"gridwidth\":2,\"linecolor\":\"#506784\",\"showbackground\":true,\"ticks\":\"\",\"zerolinecolor\":\"#C8D4E3\"},\"yaxis\":{\"backgroundcolor\":\"rgb(17,17,17)\",\"gridcolor\":\"#506784\",\"gridwidth\":2,\"linecolor\":\"#506784\",\"showbackground\":true,\"ticks\":\"\",\"zerolinecolor\":\"#C8D4E3\"},\"zaxis\":{\"backgroundcolor\":\"rgb(17,17,17)\",\"gridcolor\":\"#506784\",\"gridwidth\":2,\"linecolor\":\"#506784\",\"showbackground\":true,\"ticks\":\"\",\"zerolinecolor\":\"#C8D4E3\"}},\"shapedefaults\":{\"line\":{\"color\":\"#f2f5fa\"}},\"sliderdefaults\":{\"bgcolor\":\"#C8D4E3\",\"bordercolor\":\"rgb(17,17,17)\",\"borderwidth\":1,\"tickwidth\":0},\"ternary\":{\"aaxis\":{\"gridcolor\":\"#506784\",\"linecolor\":\"#506784\",\"ticks\":\"\"},\"baxis\":{\"gridcolor\":\"#506784\",\"linecolor\":\"#506784\",\"ticks\":\"\"},\"bgcolor\":\"rgb(17,17,17)\",\"caxis\":{\"gridcolor\":\"#506784\",\"linecolor\":\"#506784\",\"ticks\":\"\"}},\"title\":{\"x\":0.05},\"updatemenudefaults\":{\"bgcolor\":\"#506784\",\"borderwidth\":0},\"xaxis\":{\"automargin\":true,\"gridcolor\":\"#283442\",\"linecolor\":\"#506784\",\"ticks\":\"\",\"title\":{\"standoff\":15},\"zerolinecolor\":\"#283442\",\"zerolinewidth\":2},\"yaxis\":{\"automargin\":true,\"gridcolor\":\"#283442\",\"linecolor\":\"#506784\",\"ticks\":\"\",\"title\":{\"standoff\":15},\"zerolinecolor\":\"#283442\",\"zerolinewidth\":2}}},\"xaxis\":{\"anchor\":\"y\",\"domain\":[0.0,1.0],\"title\":{\"text\":\"Server\"},\"categoryorder\":\"array\",\"categoryarray\":[\"America\",\"Asia\",\"Middle_East\",\"Europe\",\"Australia\"]},\"yaxis\":{\"anchor\":\"x\",\"domain\":[0.0,1.0],\"title\":{\"text\":\"Number of Players\"}},\"legend\":{\"title\":{\"text\":\"Server\"},\"tracegroupgap\":0,\"itemsizing\":\"constant\"},\"title\":{\"text\":\"Player Count by Server Region\"}},                        {\"responsive\": true}                    ).then(function(){\n",
       "                            \n",
       "var gd = document.getElementById('e92956fe-5648-415e-84ff-5eb399b09f79');\n",
       "var x = new MutationObserver(function (mutations, observer) {{\n",
       "        var display = window.getComputedStyle(gd).display;\n",
       "        if (!display || display === 'none') {{\n",
       "            console.log([gd, 'removed!']);\n",
       "            Plotly.purge(gd);\n",
       "            observer.disconnect();\n",
       "        }}\n",
       "}});\n",
       "\n",
       "// Listen for the removal of the full notebook cells\n",
       "var notebookContainer = gd.closest('#notebook-container');\n",
       "if (notebookContainer) {{\n",
       "    x.observe(notebookContainer, {childList: true});\n",
       "}}\n",
       "\n",
       "// Listen for the clearing of the current output cell\n",
       "var outputEl = gd.closest('.output');\n",
       "if (outputEl) {{\n",
       "    x.observe(outputEl, {childList: true});\n",
       "}}\n",
       "\n",
       "                        })                };                });            </script>        </div>"
      ]
     },
     "metadata": {},
     "output_type": "display_data"
    }
   ],
   "source": [
    "import plotly.express as px\n",
    "\n",
    "player_counts = df['Server'].value_counts().reset_index()\n",
    "player_counts.columns = ['Server', 'PlayerCount']\n",
    "\n",
    "fig = px.scatter(player_counts, x='Server', y='PlayerCount', color='Server',\n",
    "                 size='PlayerCount', title='Player Count by Server Region',\n",
    "                 labels={'PlayerCount': 'Number of Players'},\n",
    "                 hover_name='Server', template='plotly_dark')\n",
    "fig.show()"
   ]
  },
  {
   "cell_type": "code",
   "execution_count": 27,
   "id": "03f8bbf4-24d2-4983-810f-9f299bca9450",
   "metadata": {},
   "outputs": [
    {
     "data": {
      "application/vnd.plotly.v1+json": {
       "config": {
        "plotlyServerURL": "https://plot.ly"
       },
       "data": [
        {
         "customdata": [
          [
           "Asia"
          ],
          [
           "Asia"
          ],
          [
           "Asia"
          ],
          [
           "Asia"
          ],
          [
           "Asia"
          ],
          [
           "Asia"
          ],
          [
           "Asia"
          ],
          [
           "Asia"
          ],
          [
           "Asia"
          ],
          [
           "Asia"
          ],
          [
           "Asia"
          ],
          [
           "Asia"
          ],
          [
           "Asia"
          ],
          [
           "Asia"
          ],
          [
           "Asia"
          ],
          [
           "Asia"
          ],
          [
           "Asia"
          ],
          [
           "Asia"
          ],
          [
           "Asia"
          ],
          [
           "Asia"
          ],
          [
           "Asia"
          ],
          [
           "Asia"
          ],
          [
           "Asia"
          ],
          [
           "Asia"
          ],
          [
           "Asia"
          ],
          [
           "Asia"
          ],
          [
           "Asia"
          ],
          [
           "Asia"
          ],
          [
           "Asia"
          ],
          [
           "Asia"
          ],
          [
           "Asia"
          ],
          [
           "Asia"
          ],
          [
           "Asia"
          ],
          [
           "Asia"
          ],
          [
           "Asia"
          ],
          [
           "Asia"
          ],
          [
           "Asia"
          ],
          [
           "Asia"
          ],
          [
           "Asia"
          ],
          [
           "Asia"
          ],
          [
           "Asia"
          ],
          [
           "Asia"
          ],
          [
           "Asia"
          ],
          [
           "Asia"
          ],
          [
           "Asia"
          ],
          [
           "Asia"
          ],
          [
           "Asia"
          ],
          [
           "Asia"
          ],
          [
           "Asia"
          ],
          [
           "Asia"
          ],
          [
           "Asia"
          ],
          [
           "Asia"
          ],
          [
           "Asia"
          ],
          [
           "Asia"
          ],
          [
           "Asia"
          ],
          [
           "Asia"
          ],
          [
           "Asia"
          ],
          [
           "Asia"
          ],
          [
           "Asia"
          ],
          [
           "Asia"
          ],
          [
           "Asia"
          ],
          [
           "Asia"
          ],
          [
           "Asia"
          ],
          [
           "Asia"
          ],
          [
           "Asia"
          ],
          [
           "Asia"
          ],
          [
           "Asia"
          ],
          [
           "Asia"
          ],
          [
           "Asia"
          ],
          [
           "Asia"
          ],
          [
           "Asia"
          ],
          [
           "Asia"
          ],
          [
           "Asia"
          ],
          [
           "Asia"
          ],
          [
           "Asia"
          ],
          [
           "Asia"
          ],
          [
           "Asia"
          ],
          [
           "Asia"
          ],
          [
           "Asia"
          ],
          [
           "Asia"
          ],
          [
           "Asia"
          ],
          [
           "Asia"
          ],
          [
           "Asia"
          ],
          [
           "Asia"
          ],
          [
           "Asia"
          ],
          [
           "Asia"
          ],
          [
           "Asia"
          ],
          [
           "Asia"
          ],
          [
           "Asia"
          ],
          [
           "Asia"
          ],
          [
           "Asia"
          ],
          [
           "Asia"
          ],
          [
           "Asia"
          ],
          [
           "Asia"
          ]
         ],
         "hovertemplate": "Server=%{customdata[0]}<br>Player Level=%{x}<br>Achievements=%{y}<extra></extra>",
         "legendgroup": "Asia",
         "marker": {
          "color": "#636efa",
          "symbol": "circle"
         },
         "mode": "markers",
         "name": "Asia",
         "orientation": "v",
         "showlegend": true,
         "type": "scatter",
         "x": [
          51,
          43,
          81,
          82,
          80,
          57,
          42,
          61,
          54,
          63,
          39,
          51,
          61,
          73,
          84,
          40,
          84,
          83,
          82,
          79,
          87,
          44,
          32,
          56,
          32,
          58,
          31,
          59,
          76,
          48,
          41,
          79,
          35,
          77,
          43,
          53,
          44,
          87,
          59,
          88,
          61,
          39,
          78,
          64,
          39,
          54,
          85,
          61,
          88,
          70,
          57,
          49,
          87,
          34,
          84,
          76,
          37,
          30,
          84,
          61,
          80,
          61,
          36,
          68,
          33,
          61,
          61,
          59,
          61,
          49,
          89,
          88,
          73,
          79,
          60,
          47,
          85,
          33,
          41,
          61,
          64,
          61,
          50,
          63,
          43,
          31,
          43,
          61,
          76,
          87,
          73,
          50,
          90,
          55
         ],
         "xaxis": "x",
         "y": [
          5540,
          6416,
          6812,
          6812,
          6812,
          6812,
          4461,
          6812,
          6638,
          8910,
          4505,
          6691,
          4708,
          8351,
          7841,
          8167,
          6945,
          8866,
          6341,
          6812,
          6812,
          6812,
          4334,
          4339,
          6812,
          6812,
          4316,
          6812,
          7698,
          5866,
          6812,
          6831,
          4555,
          6595,
          6812,
          5410,
          6812,
          8540,
          8727,
          6812,
          8114,
          4719,
          8613,
          6812,
          4243,
          8166,
          6812,
          6812,
          5394,
          7649,
          7128,
          4309,
          8568,
          7100,
          6812,
          5662,
          5211,
          7646,
          8651,
          5159,
          6812,
          8364,
          6628,
          6812,
          8179,
          5445,
          5275,
          6531,
          5020,
          5199,
          4864,
          5816,
          8420,
          7312,
          8524,
          5722,
          6501,
          7686,
          6959,
          6812,
          4104,
          7299,
          8792,
          7324,
          8576,
          8433,
          6812,
          7237,
          4324,
          8206,
          7518,
          7508,
          6410,
          6170
         ],
         "yaxis": "y"
        },
        {
         "customdata": [
          [
           "Australia"
          ],
          [
           "Australia"
          ],
          [
           "Australia"
          ],
          [
           "Australia"
          ],
          [
           "Australia"
          ],
          [
           "Australia"
          ],
          [
           "Australia"
          ],
          [
           "Australia"
          ],
          [
           "Australia"
          ],
          [
           "Australia"
          ],
          [
           "Australia"
          ],
          [
           "Australia"
          ],
          [
           "Australia"
          ],
          [
           "Australia"
          ],
          [
           "Australia"
          ],
          [
           "Australia"
          ],
          [
           "Australia"
          ],
          [
           "Australia"
          ],
          [
           "Australia"
          ],
          [
           "Australia"
          ],
          [
           "Australia"
          ],
          [
           "Australia"
          ],
          [
           "Australia"
          ],
          [
           "Australia"
          ],
          [
           "Australia"
          ],
          [
           "Australia"
          ],
          [
           "Australia"
          ],
          [
           "Australia"
          ],
          [
           "Australia"
          ],
          [
           "Australia"
          ],
          [
           "Australia"
          ],
          [
           "Australia"
          ],
          [
           "Australia"
          ],
          [
           "Australia"
          ],
          [
           "Australia"
          ],
          [
           "Australia"
          ],
          [
           "Australia"
          ],
          [
           "Australia"
          ],
          [
           "Australia"
          ],
          [
           "Australia"
          ],
          [
           "Australia"
          ],
          [
           "Australia"
          ],
          [
           "Australia"
          ],
          [
           "Australia"
          ],
          [
           "Australia"
          ],
          [
           "Australia"
          ],
          [
           "Australia"
          ],
          [
           "Australia"
          ],
          [
           "Australia"
          ],
          [
           "Australia"
          ],
          [
           "Australia"
          ],
          [
           "Australia"
          ],
          [
           "Australia"
          ],
          [
           "Australia"
          ],
          [
           "Australia"
          ],
          [
           "Australia"
          ],
          [
           "Australia"
          ],
          [
           "Australia"
          ],
          [
           "Australia"
          ],
          [
           "Australia"
          ],
          [
           "Australia"
          ],
          [
           "Australia"
          ],
          [
           "Australia"
          ],
          [
           "Australia"
          ],
          [
           "Australia"
          ],
          [
           "Australia"
          ],
          [
           "Australia"
          ],
          [
           "Australia"
          ],
          [
           "Australia"
          ],
          [
           "Australia"
          ]
         ],
         "hovertemplate": "Server=%{customdata[0]}<br>Player Level=%{x}<br>Achievements=%{y}<extra></extra>",
         "legendgroup": "Australia",
         "marker": {
          "color": "#EF553B",
          "symbol": "circle"
         },
         "mode": "markers",
         "name": "Australia",
         "orientation": "v",
         "showlegend": true,
         "type": "scatter",
         "x": [
          72,
          56,
          66,
          30,
          83,
          47,
          58,
          89,
          81,
          42,
          78,
          71,
          40,
          34,
          61,
          45,
          90,
          68,
          40,
          39,
          32,
          32,
          61,
          33,
          31,
          64,
          60,
          64,
          33,
          83,
          66,
          72,
          87,
          61,
          54,
          33,
          74,
          43,
          61,
          34,
          37,
          72,
          81,
          65,
          49,
          89,
          59,
          48,
          61,
          44,
          61,
          81,
          39,
          83,
          61,
          47,
          88,
          41,
          71,
          53,
          61,
          30,
          38,
          66,
          78,
          45,
          45,
          79,
          67,
          82
         ],
         "xaxis": "x",
         "y": [
          8288,
          5860,
          6812,
          8774,
          6812,
          4046,
          5973,
          4772,
          4555,
          6812,
          6812,
          6812,
          4083,
          5894,
          8150,
          6740,
          8040,
          7107,
          4467,
          6528,
          6745,
          6490,
          7599,
          7868,
          6812,
          7455,
          8841,
          7917,
          6812,
          6812,
          6887,
          6812,
          6812,
          8574,
          7324,
          6812,
          6898,
          6003,
          4711,
          7436,
          8007,
          5581,
          6812,
          6812,
          5430,
          6812,
          7105,
          4995,
          8767,
          7789,
          5875,
          8942,
          4266,
          6354,
          6567,
          7866,
          7451,
          4140,
          7871,
          6184,
          5454,
          6959,
          8802,
          6898,
          7328,
          7703,
          6812,
          6812,
          7934,
          6430
         ],
         "yaxis": "y"
        },
        {
         "customdata": [
          [
           "America"
          ],
          [
           "America"
          ],
          [
           "America"
          ],
          [
           "America"
          ],
          [
           "America"
          ],
          [
           "America"
          ],
          [
           "America"
          ],
          [
           "America"
          ],
          [
           "America"
          ],
          [
           "America"
          ],
          [
           "America"
          ],
          [
           "America"
          ],
          [
           "America"
          ],
          [
           "America"
          ],
          [
           "America"
          ],
          [
           "America"
          ],
          [
           "America"
          ],
          [
           "America"
          ],
          [
           "America"
          ],
          [
           "America"
          ],
          [
           "America"
          ],
          [
           "America"
          ],
          [
           "America"
          ],
          [
           "America"
          ],
          [
           "America"
          ],
          [
           "America"
          ],
          [
           "America"
          ],
          [
           "America"
          ],
          [
           "America"
          ],
          [
           "America"
          ],
          [
           "America"
          ],
          [
           "America"
          ],
          [
           "America"
          ],
          [
           "America"
          ],
          [
           "America"
          ],
          [
           "America"
          ],
          [
           "America"
          ],
          [
           "America"
          ],
          [
           "America"
          ],
          [
           "America"
          ],
          [
           "America"
          ],
          [
           "America"
          ],
          [
           "America"
          ],
          [
           "America"
          ],
          [
           "America"
          ],
          [
           "America"
          ],
          [
           "America"
          ],
          [
           "America"
          ],
          [
           "America"
          ],
          [
           "America"
          ],
          [
           "America"
          ],
          [
           "America"
          ],
          [
           "America"
          ],
          [
           "America"
          ],
          [
           "America"
          ],
          [
           "America"
          ],
          [
           "America"
          ],
          [
           "America"
          ],
          [
           "America"
          ],
          [
           "America"
          ],
          [
           "America"
          ],
          [
           "America"
          ],
          [
           "America"
          ],
          [
           "America"
          ],
          [
           "America"
          ],
          [
           "America"
          ],
          [
           "America"
          ],
          [
           "America"
          ],
          [
           "America"
          ],
          [
           "America"
          ],
          [
           "America"
          ],
          [
           "America"
          ],
          [
           "America"
          ],
          [
           "America"
          ],
          [
           "America"
          ],
          [
           "America"
          ],
          [
           "America"
          ],
          [
           "America"
          ],
          [
           "America"
          ],
          [
           "America"
          ],
          [
           "America"
          ],
          [
           "America"
          ],
          [
           "America"
          ],
          [
           "America"
          ],
          [
           "America"
          ],
          [
           "America"
          ],
          [
           "America"
          ],
          [
           "America"
          ],
          [
           "America"
          ],
          [
           "America"
          ],
          [
           "America"
          ],
          [
           "America"
          ],
          [
           "America"
          ],
          [
           "America"
          ],
          [
           "America"
          ]
         ],
         "hovertemplate": "Server=%{customdata[0]}<br>Player Level=%{x}<br>Achievements=%{y}<extra></extra>",
         "legendgroup": "America",
         "marker": {
          "color": "#00cc96",
          "symbol": "circle"
         },
         "mode": "markers",
         "name": "America",
         "orientation": "v",
         "showlegend": true,
         "type": "scatter",
         "x": [
          67,
          89,
          75,
          53,
          63,
          67,
          62,
          77,
          42,
          30,
          80,
          82,
          48,
          52,
          81,
          64,
          62,
          61,
          60,
          42,
          48,
          65,
          86,
          84,
          61,
          61,
          58,
          61,
          61,
          42,
          81,
          45,
          33,
          80,
          35,
          64,
          63,
          61,
          33,
          59,
          85,
          77,
          74,
          88,
          85,
          71,
          44,
          82,
          45,
          76,
          46,
          73,
          86,
          83,
          77,
          65,
          86,
          47,
          66,
          86,
          45,
          88,
          61,
          38,
          61,
          77,
          69,
          81,
          77,
          51,
          89,
          80,
          62,
          48,
          61,
          61,
          53,
          79,
          53,
          45,
          75,
          68,
          64,
          55,
          85,
          63,
          61,
          61,
          76,
          37,
          75,
          43,
          76,
          49,
          88
         ],
         "xaxis": "x",
         "y": [
          7200,
          7297,
          4858,
          6812,
          6874,
          6812,
          7065,
          8037,
          6812,
          7696,
          4539,
          8491,
          5143,
          6812,
          6812,
          5222,
          7795,
          6812,
          6812,
          6578,
          5060,
          6812,
          7182,
          5041,
          6640,
          5537,
          4159,
          6490,
          7297,
          6445,
          8816,
          7961,
          6402,
          6812,
          5414,
          8796,
          8573,
          4715,
          6812,
          5315,
          6812,
          8906,
          6812,
          4881,
          6962,
          6812,
          7458,
          6784,
          5791,
          8439,
          6082,
          6118,
          4659,
          6705,
          6258,
          7986,
          8184,
          8639,
          6812,
          7629,
          8255,
          6427,
          6812,
          6812,
          8679,
          8289,
          6812,
          7244,
          5090,
          5657,
          5030,
          6812,
          6812,
          6812,
          4322,
          5650,
          4091,
          4098,
          6380,
          4201,
          6235,
          8893,
          7369,
          6812,
          5381,
          8898,
          6392,
          6812,
          7883,
          6812,
          8007,
          6812,
          6765,
          4278,
          6812
         ],
         "yaxis": "y"
        },
        {
         "customdata": [
          [
           "Europe"
          ],
          [
           "Europe"
          ],
          [
           "Europe"
          ],
          [
           "Europe"
          ],
          [
           "Europe"
          ],
          [
           "Europe"
          ],
          [
           "Europe"
          ],
          [
           "Europe"
          ],
          [
           "Europe"
          ],
          [
           "Europe"
          ],
          [
           "Europe"
          ],
          [
           "Europe"
          ],
          [
           "Europe"
          ],
          [
           "Europe"
          ],
          [
           "Europe"
          ],
          [
           "Europe"
          ],
          [
           "Europe"
          ],
          [
           "Europe"
          ],
          [
           "Europe"
          ],
          [
           "Europe"
          ],
          [
           "Europe"
          ],
          [
           "Europe"
          ],
          [
           "Europe"
          ],
          [
           "Europe"
          ],
          [
           "Europe"
          ],
          [
           "Europe"
          ],
          [
           "Europe"
          ],
          [
           "Europe"
          ],
          [
           "Europe"
          ],
          [
           "Europe"
          ],
          [
           "Europe"
          ],
          [
           "Europe"
          ],
          [
           "Europe"
          ],
          [
           "Europe"
          ],
          [
           "Europe"
          ],
          [
           "Europe"
          ],
          [
           "Europe"
          ],
          [
           "Europe"
          ],
          [
           "Europe"
          ],
          [
           "Europe"
          ],
          [
           "Europe"
          ],
          [
           "Europe"
          ],
          [
           "Europe"
          ],
          [
           "Europe"
          ],
          [
           "Europe"
          ],
          [
           "Europe"
          ],
          [
           "Europe"
          ],
          [
           "Europe"
          ],
          [
           "Europe"
          ],
          [
           "Europe"
          ],
          [
           "Europe"
          ],
          [
           "Europe"
          ],
          [
           "Europe"
          ],
          [
           "Europe"
          ],
          [
           "Europe"
          ],
          [
           "Europe"
          ],
          [
           "Europe"
          ],
          [
           "Europe"
          ],
          [
           "Europe"
          ],
          [
           "Europe"
          ],
          [
           "Europe"
          ],
          [
           "Europe"
          ],
          [
           "Europe"
          ],
          [
           "Europe"
          ],
          [
           "Europe"
          ],
          [
           "Europe"
          ],
          [
           "Europe"
          ],
          [
           "Europe"
          ],
          [
           "Europe"
          ],
          [
           "Europe"
          ],
          [
           "Europe"
          ],
          [
           "Europe"
          ],
          [
           "Europe"
          ]
         ],
         "hovertemplate": "Server=%{customdata[0]}<br>Player Level=%{x}<br>Achievements=%{y}<extra></extra>",
         "legendgroup": "Europe",
         "marker": {
          "color": "#ab63fa",
          "symbol": "circle"
         },
         "mode": "markers",
         "name": "Europe",
         "orientation": "v",
         "showlegend": true,
         "type": "scatter",
         "x": [
          61,
          51,
          54,
          61,
          70,
          78,
          77,
          32,
          58,
          90,
          31,
          65,
          44,
          61,
          54,
          34,
          44,
          43,
          73,
          39,
          49,
          86,
          49,
          57,
          44,
          69,
          41,
          35,
          53,
          35,
          61,
          61,
          69,
          30,
          88,
          32,
          60,
          31,
          82,
          79,
          48,
          35,
          84,
          56,
          56,
          35,
          30,
          44,
          69,
          61,
          77,
          38,
          75,
          68,
          84,
          61,
          69,
          66,
          62,
          54,
          62,
          70,
          90,
          61,
          89,
          53,
          78,
          30,
          74,
          50,
          46,
          50,
          80
         ],
         "xaxis": "x",
         "y": [
          7693,
          7314,
          7910,
          6812,
          7378,
          8204,
          7586,
          6812,
          8063,
          6860,
          8110,
          7845,
          6812,
          7334,
          6078,
          6812,
          5241,
          5472,
          6509,
          6812,
          8035,
          4612,
          8778,
          5073,
          5016,
          5218,
          4014,
          7286,
          6132,
          5597,
          6909,
          5879,
          6812,
          8997,
          8738,
          5577,
          5824,
          7275,
          7540,
          8061,
          6812,
          5147,
          6812,
          8034,
          6812,
          8816,
          7509,
          7619,
          6812,
          6545,
          8764,
          6333,
          8862,
          6812,
          5276,
          7470,
          5213,
          7560,
          4452,
          6313,
          7780,
          7521,
          7394,
          4536,
          6273,
          6812,
          6812,
          7618,
          6812,
          5099,
          6602,
          7314,
          4922
         ],
         "yaxis": "y"
        },
        {
         "customdata": [
          [
           "Middle_East"
          ],
          [
           "Middle_East"
          ],
          [
           "Middle_East"
          ],
          [
           "Middle_East"
          ],
          [
           "Middle_East"
          ],
          [
           "Middle_East"
          ],
          [
           "Middle_East"
          ],
          [
           "Middle_East"
          ],
          [
           "Middle_East"
          ],
          [
           "Middle_East"
          ],
          [
           "Middle_East"
          ],
          [
           "Middle_East"
          ],
          [
           "Middle_East"
          ],
          [
           "Middle_East"
          ],
          [
           "Middle_East"
          ],
          [
           "Middle_East"
          ],
          [
           "Middle_East"
          ],
          [
           "Middle_East"
          ],
          [
           "Middle_East"
          ],
          [
           "Middle_East"
          ],
          [
           "Middle_East"
          ],
          [
           "Middle_East"
          ],
          [
           "Middle_East"
          ],
          [
           "Middle_East"
          ],
          [
           "Middle_East"
          ],
          [
           "Middle_East"
          ],
          [
           "Middle_East"
          ],
          [
           "Middle_East"
          ],
          [
           "Middle_East"
          ],
          [
           "Middle_East"
          ],
          [
           "Middle_East"
          ],
          [
           "Middle_East"
          ],
          [
           "Middle_East"
          ],
          [
           "Middle_East"
          ],
          [
           "Middle_East"
          ],
          [
           "Middle_East"
          ],
          [
           "Middle_East"
          ],
          [
           "Middle_East"
          ],
          [
           "Middle_East"
          ],
          [
           "Middle_East"
          ],
          [
           "Middle_East"
          ],
          [
           "Middle_East"
          ],
          [
           "Middle_East"
          ],
          [
           "Middle_East"
          ],
          [
           "Middle_East"
          ],
          [
           "Middle_East"
          ],
          [
           "Middle_East"
          ],
          [
           "Middle_East"
          ],
          [
           "Middle_East"
          ],
          [
           "Middle_East"
          ],
          [
           "Middle_East"
          ],
          [
           "Middle_East"
          ],
          [
           "Middle_East"
          ],
          [
           "Middle_East"
          ],
          [
           "Middle_East"
          ],
          [
           "Middle_East"
          ],
          [
           "Middle_East"
          ],
          [
           "Middle_East"
          ],
          [
           "Middle_East"
          ],
          [
           "Middle_East"
          ],
          [
           "Middle_East"
          ],
          [
           "Middle_East"
          ],
          [
           "Middle_East"
          ],
          [
           "Middle_East"
          ],
          [
           "Middle_East"
          ],
          [
           "Middle_East"
          ],
          [
           "Middle_East"
          ],
          [
           "Middle_East"
          ],
          [
           "Middle_East"
          ],
          [
           "Middle_East"
          ],
          [
           "Middle_East"
          ],
          [
           "Middle_East"
          ],
          [
           "Middle_East"
          ],
          [
           "Middle_East"
          ],
          [
           "Middle_East"
          ],
          [
           "Middle_East"
          ],
          [
           "Middle_East"
          ],
          [
           "Middle_East"
          ],
          [
           "Middle_East"
          ],
          [
           "Middle_East"
          ],
          [
           "Middle_East"
          ],
          [
           "Middle_East"
          ],
          [
           "Middle_East"
          ],
          [
           "Middle_East"
          ],
          [
           "Middle_East"
          ],
          [
           "Middle_East"
          ]
         ],
         "hovertemplate": "Server=%{customdata[0]}<br>Player Level=%{x}<br>Achievements=%{y}<extra></extra>",
         "legendgroup": "Middle_East",
         "marker": {
          "color": "#FFA15A",
          "symbol": "circle"
         },
         "mode": "markers",
         "name": "Middle_East",
         "orientation": "v",
         "showlegend": true,
         "type": "scatter",
         "x": [
          48,
          48,
          30,
          31,
          82,
          76,
          37,
          71,
          76,
          34,
          32,
          61,
          75,
          36,
          59,
          75,
          71,
          83,
          49,
          67,
          90,
          34,
          75,
          45,
          90,
          53,
          85,
          32,
          61,
          45,
          53,
          61,
          41,
          51,
          73,
          71,
          72,
          70,
          61,
          72,
          86,
          72,
          72,
          64,
          40,
          30,
          61,
          80,
          42,
          67,
          40,
          46,
          61,
          35,
          61,
          68,
          69,
          81,
          90,
          53,
          84,
          31,
          90,
          53,
          36,
          67,
          30,
          61,
          81,
          70,
          89,
          35,
          90,
          45,
          89,
          61,
          33,
          37,
          83,
          61,
          40,
          80,
          78,
          59,
          49,
          40
         ],
         "xaxis": "x",
         "y": [
          8567,
          6812,
          7596,
          5024,
          5329,
          8101,
          6812,
          6812,
          6812,
          6812,
          7437,
          8865,
          6812,
          8403,
          5527,
          6867,
          7305,
          8809,
          6812,
          6812,
          5966,
          4474,
          8425,
          6184,
          8358,
          5194,
          8604,
          6812,
          6812,
          8184,
          8266,
          6812,
          6812,
          5830,
          8576,
          6793,
          6812,
          7531,
          8745,
          6812,
          6607,
          8813,
          5406,
          4847,
          4700,
          6008,
          6221,
          6964,
          7419,
          4013,
          8534,
          8500,
          4210,
          6626,
          5876,
          4831,
          6178,
          6812,
          6260,
          7946,
          6514,
          5507,
          6812,
          8900,
          8518,
          6812,
          5687,
          7925,
          6452,
          6812,
          8849,
          4344,
          8696,
          4645,
          4459,
          5188,
          5958,
          4651,
          4273,
          6812,
          7883,
          7623,
          6812,
          8626,
          4719,
          7676
         ],
         "yaxis": "y"
        }
       ],
       "layout": {
        "autosize": true,
        "legend": {
         "title": {
          "text": "Server"
         },
         "tracegroupgap": 0
        },
        "template": {
         "data": {
          "bar": [
           {
            "error_x": {
             "color": "#f2f5fa"
            },
            "error_y": {
             "color": "#f2f5fa"
            },
            "marker": {
             "line": {
              "color": "rgb(17,17,17)",
              "width": 0.5
             },
             "pattern": {
              "fillmode": "overlay",
              "size": 10,
              "solidity": 0.2
             }
            },
            "type": "bar"
           }
          ],
          "barpolar": [
           {
            "marker": {
             "line": {
              "color": "rgb(17,17,17)",
              "width": 0.5
             },
             "pattern": {
              "fillmode": "overlay",
              "size": 10,
              "solidity": 0.2
             }
            },
            "type": "barpolar"
           }
          ],
          "carpet": [
           {
            "aaxis": {
             "endlinecolor": "#A2B1C6",
             "gridcolor": "#506784",
             "linecolor": "#506784",
             "minorgridcolor": "#506784",
             "startlinecolor": "#A2B1C6"
            },
            "baxis": {
             "endlinecolor": "#A2B1C6",
             "gridcolor": "#506784",
             "linecolor": "#506784",
             "minorgridcolor": "#506784",
             "startlinecolor": "#A2B1C6"
            },
            "type": "carpet"
           }
          ],
          "choropleth": [
           {
            "colorbar": {
             "outlinewidth": 0,
             "ticks": ""
            },
            "type": "choropleth"
           }
          ],
          "contour": [
           {
            "colorbar": {
             "outlinewidth": 0,
             "ticks": ""
            },
            "colorscale": [
             [
              0,
              "#0d0887"
             ],
             [
              0.1111111111111111,
              "#46039f"
             ],
             [
              0.2222222222222222,
              "#7201a8"
             ],
             [
              0.3333333333333333,
              "#9c179e"
             ],
             [
              0.4444444444444444,
              "#bd3786"
             ],
             [
              0.5555555555555556,
              "#d8576b"
             ],
             [
              0.6666666666666666,
              "#ed7953"
             ],
             [
              0.7777777777777778,
              "#fb9f3a"
             ],
             [
              0.8888888888888888,
              "#fdca26"
             ],
             [
              1,
              "#f0f921"
             ]
            ],
            "type": "contour"
           }
          ],
          "contourcarpet": [
           {
            "colorbar": {
             "outlinewidth": 0,
             "ticks": ""
            },
            "type": "contourcarpet"
           }
          ],
          "heatmap": [
           {
            "colorbar": {
             "outlinewidth": 0,
             "ticks": ""
            },
            "colorscale": [
             [
              0,
              "#0d0887"
             ],
             [
              0.1111111111111111,
              "#46039f"
             ],
             [
              0.2222222222222222,
              "#7201a8"
             ],
             [
              0.3333333333333333,
              "#9c179e"
             ],
             [
              0.4444444444444444,
              "#bd3786"
             ],
             [
              0.5555555555555556,
              "#d8576b"
             ],
             [
              0.6666666666666666,
              "#ed7953"
             ],
             [
              0.7777777777777778,
              "#fb9f3a"
             ],
             [
              0.8888888888888888,
              "#fdca26"
             ],
             [
              1,
              "#f0f921"
             ]
            ],
            "type": "heatmap"
           }
          ],
          "heatmapgl": [
           {
            "colorbar": {
             "outlinewidth": 0,
             "ticks": ""
            },
            "colorscale": [
             [
              0,
              "#0d0887"
             ],
             [
              0.1111111111111111,
              "#46039f"
             ],
             [
              0.2222222222222222,
              "#7201a8"
             ],
             [
              0.3333333333333333,
              "#9c179e"
             ],
             [
              0.4444444444444444,
              "#bd3786"
             ],
             [
              0.5555555555555556,
              "#d8576b"
             ],
             [
              0.6666666666666666,
              "#ed7953"
             ],
             [
              0.7777777777777778,
              "#fb9f3a"
             ],
             [
              0.8888888888888888,
              "#fdca26"
             ],
             [
              1,
              "#f0f921"
             ]
            ],
            "type": "heatmapgl"
           }
          ],
          "histogram": [
           {
            "marker": {
             "pattern": {
              "fillmode": "overlay",
              "size": 10,
              "solidity": 0.2
             }
            },
            "type": "histogram"
           }
          ],
          "histogram2d": [
           {
            "colorbar": {
             "outlinewidth": 0,
             "ticks": ""
            },
            "colorscale": [
             [
              0,
              "#0d0887"
             ],
             [
              0.1111111111111111,
              "#46039f"
             ],
             [
              0.2222222222222222,
              "#7201a8"
             ],
             [
              0.3333333333333333,
              "#9c179e"
             ],
             [
              0.4444444444444444,
              "#bd3786"
             ],
             [
              0.5555555555555556,
              "#d8576b"
             ],
             [
              0.6666666666666666,
              "#ed7953"
             ],
             [
              0.7777777777777778,
              "#fb9f3a"
             ],
             [
              0.8888888888888888,
              "#fdca26"
             ],
             [
              1,
              "#f0f921"
             ]
            ],
            "type": "histogram2d"
           }
          ],
          "histogram2dcontour": [
           {
            "colorbar": {
             "outlinewidth": 0,
             "ticks": ""
            },
            "colorscale": [
             [
              0,
              "#0d0887"
             ],
             [
              0.1111111111111111,
              "#46039f"
             ],
             [
              0.2222222222222222,
              "#7201a8"
             ],
             [
              0.3333333333333333,
              "#9c179e"
             ],
             [
              0.4444444444444444,
              "#bd3786"
             ],
             [
              0.5555555555555556,
              "#d8576b"
             ],
             [
              0.6666666666666666,
              "#ed7953"
             ],
             [
              0.7777777777777778,
              "#fb9f3a"
             ],
             [
              0.8888888888888888,
              "#fdca26"
             ],
             [
              1,
              "#f0f921"
             ]
            ],
            "type": "histogram2dcontour"
           }
          ],
          "mesh3d": [
           {
            "colorbar": {
             "outlinewidth": 0,
             "ticks": ""
            },
            "type": "mesh3d"
           }
          ],
          "parcoords": [
           {
            "line": {
             "colorbar": {
              "outlinewidth": 0,
              "ticks": ""
             }
            },
            "type": "parcoords"
           }
          ],
          "pie": [
           {
            "automargin": true,
            "type": "pie"
           }
          ],
          "scatter": [
           {
            "marker": {
             "line": {
              "color": "#283442"
             }
            },
            "type": "scatter"
           }
          ],
          "scatter3d": [
           {
            "line": {
             "colorbar": {
              "outlinewidth": 0,
              "ticks": ""
             }
            },
            "marker": {
             "colorbar": {
              "outlinewidth": 0,
              "ticks": ""
             }
            },
            "type": "scatter3d"
           }
          ],
          "scattercarpet": [
           {
            "marker": {
             "colorbar": {
              "outlinewidth": 0,
              "ticks": ""
             }
            },
            "type": "scattercarpet"
           }
          ],
          "scattergeo": [
           {
            "marker": {
             "colorbar": {
              "outlinewidth": 0,
              "ticks": ""
             }
            },
            "type": "scattergeo"
           }
          ],
          "scattergl": [
           {
            "marker": {
             "line": {
              "color": "#283442"
             }
            },
            "type": "scattergl"
           }
          ],
          "scattermapbox": [
           {
            "marker": {
             "colorbar": {
              "outlinewidth": 0,
              "ticks": ""
             }
            },
            "type": "scattermapbox"
           }
          ],
          "scatterpolar": [
           {
            "marker": {
             "colorbar": {
              "outlinewidth": 0,
              "ticks": ""
             }
            },
            "type": "scatterpolar"
           }
          ],
          "scatterpolargl": [
           {
            "marker": {
             "colorbar": {
              "outlinewidth": 0,
              "ticks": ""
             }
            },
            "type": "scatterpolargl"
           }
          ],
          "scatterternary": [
           {
            "marker": {
             "colorbar": {
              "outlinewidth": 0,
              "ticks": ""
             }
            },
            "type": "scatterternary"
           }
          ],
          "surface": [
           {
            "colorbar": {
             "outlinewidth": 0,
             "ticks": ""
            },
            "colorscale": [
             [
              0,
              "#0d0887"
             ],
             [
              0.1111111111111111,
              "#46039f"
             ],
             [
              0.2222222222222222,
              "#7201a8"
             ],
             [
              0.3333333333333333,
              "#9c179e"
             ],
             [
              0.4444444444444444,
              "#bd3786"
             ],
             [
              0.5555555555555556,
              "#d8576b"
             ],
             [
              0.6666666666666666,
              "#ed7953"
             ],
             [
              0.7777777777777778,
              "#fb9f3a"
             ],
             [
              0.8888888888888888,
              "#fdca26"
             ],
             [
              1,
              "#f0f921"
             ]
            ],
            "type": "surface"
           }
          ],
          "table": [
           {
            "cells": {
             "fill": {
              "color": "#506784"
             },
             "line": {
              "color": "rgb(17,17,17)"
             }
            },
            "header": {
             "fill": {
              "color": "#2a3f5f"
             },
             "line": {
              "color": "rgb(17,17,17)"
             }
            },
            "type": "table"
           }
          ]
         },
         "layout": {
          "annotationdefaults": {
           "arrowcolor": "#f2f5fa",
           "arrowhead": 0,
           "arrowwidth": 1
          },
          "autotypenumbers": "strict",
          "coloraxis": {
           "colorbar": {
            "outlinewidth": 0,
            "ticks": ""
           }
          },
          "colorscale": {
           "diverging": [
            [
             0,
             "#8e0152"
            ],
            [
             0.1,
             "#c51b7d"
            ],
            [
             0.2,
             "#de77ae"
            ],
            [
             0.3,
             "#f1b6da"
            ],
            [
             0.4,
             "#fde0ef"
            ],
            [
             0.5,
             "#f7f7f7"
            ],
            [
             0.6,
             "#e6f5d0"
            ],
            [
             0.7,
             "#b8e186"
            ],
            [
             0.8,
             "#7fbc41"
            ],
            [
             0.9,
             "#4d9221"
            ],
            [
             1,
             "#276419"
            ]
           ],
           "sequential": [
            [
             0,
             "#0d0887"
            ],
            [
             0.1111111111111111,
             "#46039f"
            ],
            [
             0.2222222222222222,
             "#7201a8"
            ],
            [
             0.3333333333333333,
             "#9c179e"
            ],
            [
             0.4444444444444444,
             "#bd3786"
            ],
            [
             0.5555555555555556,
             "#d8576b"
            ],
            [
             0.6666666666666666,
             "#ed7953"
            ],
            [
             0.7777777777777778,
             "#fb9f3a"
            ],
            [
             0.8888888888888888,
             "#fdca26"
            ],
            [
             1,
             "#f0f921"
            ]
           ],
           "sequentialminus": [
            [
             0,
             "#0d0887"
            ],
            [
             0.1111111111111111,
             "#46039f"
            ],
            [
             0.2222222222222222,
             "#7201a8"
            ],
            [
             0.3333333333333333,
             "#9c179e"
            ],
            [
             0.4444444444444444,
             "#bd3786"
            ],
            [
             0.5555555555555556,
             "#d8576b"
            ],
            [
             0.6666666666666666,
             "#ed7953"
            ],
            [
             0.7777777777777778,
             "#fb9f3a"
            ],
            [
             0.8888888888888888,
             "#fdca26"
            ],
            [
             1,
             "#f0f921"
            ]
           ]
          },
          "colorway": [
           "#636efa",
           "#EF553B",
           "#00cc96",
           "#ab63fa",
           "#FFA15A",
           "#19d3f3",
           "#FF6692",
           "#B6E880",
           "#FF97FF",
           "#FECB52"
          ],
          "font": {
           "color": "#f2f5fa"
          },
          "geo": {
           "bgcolor": "rgb(17,17,17)",
           "lakecolor": "rgb(17,17,17)",
           "landcolor": "rgb(17,17,17)",
           "showlakes": true,
           "showland": true,
           "subunitcolor": "#506784"
          },
          "hoverlabel": {
           "align": "left"
          },
          "hovermode": "closest",
          "mapbox": {
           "style": "dark"
          },
          "paper_bgcolor": "rgb(17,17,17)",
          "plot_bgcolor": "rgb(17,17,17)",
          "polar": {
           "angularaxis": {
            "gridcolor": "#506784",
            "linecolor": "#506784",
            "ticks": ""
           },
           "bgcolor": "rgb(17,17,17)",
           "radialaxis": {
            "gridcolor": "#506784",
            "linecolor": "#506784",
            "ticks": ""
           }
          },
          "scene": {
           "xaxis": {
            "backgroundcolor": "rgb(17,17,17)",
            "gridcolor": "#506784",
            "gridwidth": 2,
            "linecolor": "#506784",
            "showbackground": true,
            "ticks": "",
            "zerolinecolor": "#C8D4E3"
           },
           "yaxis": {
            "backgroundcolor": "rgb(17,17,17)",
            "gridcolor": "#506784",
            "gridwidth": 2,
            "linecolor": "#506784",
            "showbackground": true,
            "ticks": "",
            "zerolinecolor": "#C8D4E3"
           },
           "zaxis": {
            "backgroundcolor": "rgb(17,17,17)",
            "gridcolor": "#506784",
            "gridwidth": 2,
            "linecolor": "#506784",
            "showbackground": true,
            "ticks": "",
            "zerolinecolor": "#C8D4E3"
           }
          },
          "shapedefaults": {
           "line": {
            "color": "#f2f5fa"
           }
          },
          "sliderdefaults": {
           "bgcolor": "#C8D4E3",
           "bordercolor": "rgb(17,17,17)",
           "borderwidth": 1,
           "tickwidth": 0
          },
          "ternary": {
           "aaxis": {
            "gridcolor": "#506784",
            "linecolor": "#506784",
            "ticks": ""
           },
           "baxis": {
            "gridcolor": "#506784",
            "linecolor": "#506784",
            "ticks": ""
           },
           "bgcolor": "rgb(17,17,17)",
           "caxis": {
            "gridcolor": "#506784",
            "linecolor": "#506784",
            "ticks": ""
           }
          },
          "title": {
           "x": 0.05
          },
          "updatemenudefaults": {
           "bgcolor": "#506784",
           "borderwidth": 0
          },
          "xaxis": {
           "automargin": true,
           "gridcolor": "#283442",
           "linecolor": "#506784",
           "ticks": "",
           "title": {
            "standoff": 15
           },
           "zerolinecolor": "#283442",
           "zerolinewidth": 2
          },
          "yaxis": {
           "automargin": true,
           "gridcolor": "#283442",
           "linecolor": "#506784",
           "ticks": "",
           "title": {
            "standoff": 15
           },
           "zerolinecolor": "#283442",
           "zerolinewidth": 2
          }
         }
        },
        "title": {
         "text": "Achievements vs Level by Server"
        },
        "xaxis": {
         "anchor": "y",
         "autorange": true,
         "domain": [
          0,
          1
         ],
         "range": [
          26.346153846153847,
          93.65384615384616
         ],
         "title": {
          "text": "Player Level"
         },
         "type": "linear"
        },
        "yaxis": {
         "anchor": "x",
         "autorange": true,
         "domain": [
          0,
          1
         ],
         "range": [
          3601.6990291262136,
          9408.300970873786
         ],
         "title": {
          "text": "Achievements"
         },
         "type": "linear"
        }
       }
      },
      "image/png": "[encoded data removed]",
      "text/html": [
       "<div>                            <div id=\"7f776531-4d3c-439a-942c-f6df15fe69a2\" class=\"plotly-graph-div\" style=\"height:525px; width:100%;\"></div>            <script type=\"text/javascript\">                require([\"plotly\"], function(Plotly) {                    window.PLOTLYENV=window.PLOTLYENV || {};                                    if (document.getElementById(\"7f776531-4d3c-439a-942c-f6df15fe69a2\")) {                    Plotly.newPlot(                        \"7f776531-4d3c-439a-942c-f6df15fe69a2\",                        [{\"customdata\":[[\"Asia\"],[\"Asia\"],[\"Asia\"],[\"Asia\"],[\"Asia\"],[\"Asia\"],[\"Asia\"],[\"Asia\"],[\"Asia\"],[\"Asia\"],[\"Asia\"],[\"Asia\"],[\"Asia\"],[\"Asia\"],[\"Asia\"],[\"Asia\"],[\"Asia\"],[\"Asia\"],[\"Asia\"],[\"Asia\"],[\"Asia\"],[\"Asia\"],[\"Asia\"],[\"Asia\"],[\"Asia\"],[\"Asia\"],[\"Asia\"],[\"Asia\"],[\"Asia\"],[\"Asia\"],[\"Asia\"],[\"Asia\"],[\"Asia\"],[\"Asia\"],[\"Asia\"],[\"Asia\"],[\"Asia\"],[\"Asia\"],[\"Asia\"],[\"Asia\"],[\"Asia\"],[\"Asia\"],[\"Asia\"],[\"Asia\"],[\"Asia\"],[\"Asia\"],[\"Asia\"],[\"Asia\"],[\"Asia\"],[\"Asia\"],[\"Asia\"],[\"Asia\"],[\"Asia\"],[\"Asia\"],[\"Asia\"],[\"Asia\"],[\"Asia\"],[\"Asia\"],[\"Asia\"],[\"Asia\"],[\"Asia\"],[\"Asia\"],[\"Asia\"],[\"Asia\"],[\"Asia\"],[\"Asia\"],[\"Asia\"],[\"Asia\"],[\"Asia\"],[\"Asia\"],[\"Asia\"],[\"Asia\"],[\"Asia\"],[\"Asia\"],[\"Asia\"],[\"Asia\"],[\"Asia\"],[\"Asia\"],[\"Asia\"],[\"Asia\"],[\"Asia\"],[\"Asia\"],[\"Asia\"],[\"Asia\"],[\"Asia\"],[\"Asia\"],[\"Asia\"],[\"Asia\"],[\"Asia\"],[\"Asia\"],[\"Asia\"],[\"Asia\"],[\"Asia\"],[\"Asia\"]],\"hovertemplate\":\"Server=%{customdata[0]}\\u003cbr\\u003ePlayer Level=%{x}\\u003cbr\\u003eAchievements=%{y}\\u003cextra\\u003e\\u003c\\u002fextra\\u003e\",\"legendgroup\":\"Asia\",\"marker\":{\"color\":\"#636efa\",\"symbol\":\"circle\"},\"mode\":\"markers\",\"name\":\"Asia\",\"orientation\":\"v\",\"showlegend\":true,\"x\":[51.0,43.0,81.0,82.0,80.0,57.0,42.0,61.0,54.0,63.0,39.0,51.0,61.0,73.0,84.0,40.0,84.0,83.0,82.0,79.0,87.0,44.0,32.0,56.0,32.0,58.0,31.0,59.0,76.0,48.0,41.0,79.0,35.0,77.0,43.0,53.0,44.0,87.0,59.0,88.0,61.0,39.0,78.0,64.0,39.0,54.0,85.0,61.0,88.0,70.0,57.0,49.0,87.0,34.0,84.0,76.0,37.0,30.0,84.0,61.0,80.0,61.0,36.0,68.0,33.0,61.0,61.0,59.0,61.0,49.0,89.0,88.0,73.0,79.0,60.0,47.0,85.0,33.0,41.0,61.0,64.0,61.0,50.0,63.0,43.0,31.0,43.0,61.0,76.0,87.0,73.0,50.0,90.0,55.0],\"xaxis\":\"x\",\"y\":[5540.0,6416.0,6812.0,6812.0,6812.0,6812.0,4461.0,6812.0,6638.0,8910.0,4505.0,6691.0,4708.0,8351.0,7841.0,8167.0,6945.0,8866.0,6341.0,6812.0,6812.0,6812.0,4334.0,4339.0,6812.0,6812.0,4316.0,6812.0,7698.0,5866.0,6812.0,6831.0,4555.0,6595.0,6812.0,5410.0,6812.0,8540.0,8727.0,6812.0,8114.0,4719.0,8613.0,6812.0,4243.0,8166.0,6812.0,6812.0,5394.0,7649.0,7128.0,4309.0,8568.0,7100.0,6812.0,5662.0,5211.0,7646.0,8651.0,5159.0,6812.0,8364.0,6628.0,6812.0,8179.0,5445.0,5275.0,6531.0,5020.0,5199.0,4864.0,5816.0,8420.0,7312.0,8524.0,5722.0,6501.0,7686.0,6959.0,6812.0,4104.0,7299.0,8792.0,7324.0,8576.0,8433.0,6812.0,7237.0,4324.0,8206.0,7518.0,7508.0,6410.0,6170.0],\"yaxis\":\"y\",\"type\":\"scatter\"},{\"customdata\":[[\"Australia\"],[\"Australia\"],[\"Australia\"],[\"Australia\"],[\"Australia\"],[\"Australia\"],[\"Australia\"],[\"Australia\"],[\"Australia\"],[\"Australia\"],[\"Australia\"],[\"Australia\"],[\"Australia\"],[\"Australia\"],[\"Australia\"],[\"Australia\"],[\"Australia\"],[\"Australia\"],[\"Australia\"],[\"Australia\"],[\"Australia\"],[\"Australia\"],[\"Australia\"],[\"Australia\"],[\"Australia\"],[\"Australia\"],[\"Australia\"],[\"Australia\"],[\"Australia\"],[\"Australia\"],[\"Australia\"],[\"Australia\"],[\"Australia\"],[\"Australia\"],[\"Australia\"],[\"Australia\"],[\"Australia\"],[\"Australia\"],[\"Australia\"],[\"Australia\"],[\"Australia\"],[\"Australia\"],[\"Australia\"],[\"Australia\"],[\"Australia\"],[\"Australia\"],[\"Australia\"],[\"Australia\"],[\"Australia\"],[\"Australia\"],[\"Australia\"],[\"Australia\"],[\"Australia\"],[\"Australia\"],[\"Australia\"],[\"Australia\"],[\"Australia\"],[\"Australia\"],[\"Australia\"],[\"Australia\"],[\"Australia\"],[\"Australia\"],[\"Australia\"],[\"Australia\"],[\"Australia\"],[\"Australia\"],[\"Australia\"],[\"Australia\"],[\"Australia\"],[\"Australia\"]],\"hovertemplate\":\"Server=%{customdata[0]}\\u003cbr\\u003ePlayer Level=%{x}\\u003cbr\\u003eAchievements=%{y}\\u003cextra\\u003e\\u003c\\u002fextra\\u003e\",\"legendgroup\":\"Australia\",\"marker\":{\"color\":\"#EF553B\",\"symbol\":\"circle\"},\"mode\":\"markers\",\"name\":\"Australia\",\"orientation\":\"v\",\"showlegend\":true,\"x\":[72.0,56.0,66.0,30.0,83.0,47.0,58.0,89.0,81.0,42.0,78.0,71.0,40.0,34.0,61.0,45.0,90.0,68.0,40.0,39.0,32.0,32.0,61.0,33.0,31.0,64.0,60.0,64.0,33.0,83.0,66.0,72.0,87.0,61.0,54.0,33.0,74.0,43.0,61.0,34.0,37.0,72.0,81.0,65.0,49.0,89.0,59.0,48.0,61.0,44.0,61.0,81.0,39.0,83.0,61.0,47.0,88.0,41.0,71.0,53.0,61.0,30.0,38.0,66.0,78.0,45.0,45.0,79.0,67.0,82.0],\"xaxis\":\"x\",\"y\":[8288.0,5860.0,6812.0,8774.0,6812.0,4046.0,5973.0,4772.0,4555.0,6812.0,6812.0,6812.0,4083.0,5894.0,8150.0,6740.0,8040.0,7107.0,4467.0,6528.0,6745.0,6490.0,7599.0,7868.0,6812.0,7455.0,8841.0,7917.0,6812.0,6812.0,6887.0,6812.0,6812.0,8574.0,7324.0,6812.0,6898.0,6003.0,4711.0,7436.0,8007.0,5581.0,6812.0,6812.0,5430.0,6812.0,7105.0,4995.0,8767.0,7789.0,5875.0,8942.0,4266.0,6354.0,6567.0,7866.0,7451.0,4140.0,7871.0,6184.0,5454.0,6959.0,8802.0,6898.0,7328.0,7703.0,6812.0,6812.0,7934.0,6430.0],\"yaxis\":\"y\",\"type\":\"scatter\"},{\"customdata\":[[\"America\"],[\"America\"],[\"America\"],[\"America\"],[\"America\"],[\"America\"],[\"America\"],[\"America\"],[\"America\"],[\"America\"],[\"America\"],[\"America\"],[\"America\"],[\"America\"],[\"America\"],[\"America\"],[\"America\"],[\"America\"],[\"America\"],[\"America\"],[\"America\"],[\"America\"],[\"America\"],[\"America\"],[\"America\"],[\"America\"],[\"America\"],[\"America\"],[\"America\"],[\"America\"],[\"America\"],[\"America\"],[\"America\"],[\"America\"],[\"America\"],[\"America\"],[\"America\"],[\"America\"],[\"America\"],[\"America\"],[\"America\"],[\"America\"],[\"America\"],[\"America\"],[\"America\"],[\"America\"],[\"America\"],[\"America\"],[\"America\"],[\"America\"],[\"America\"],[\"America\"],[\"America\"],[\"America\"],[\"America\"],[\"America\"],[\"America\"],[\"America\"],[\"America\"],[\"America\"],[\"America\"],[\"America\"],[\"America\"],[\"America\"],[\"America\"],[\"America\"],[\"America\"],[\"America\"],[\"America\"],[\"America\"],[\"America\"],[\"America\"],[\"America\"],[\"America\"],[\"America\"],[\"America\"],[\"America\"],[\"America\"],[\"America\"],[\"America\"],[\"America\"],[\"America\"],[\"America\"],[\"America\"],[\"America\"],[\"America\"],[\"America\"],[\"America\"],[\"America\"],[\"America\"],[\"America\"],[\"America\"],[\"America\"],[\"America\"],[\"America\"]],\"hovertemplate\":\"Server=%{customdata[0]}\\u003cbr\\u003ePlayer Level=%{x}\\u003cbr\\u003eAchievements=%{y}\\u003cextra\\u003e\\u003c\\u002fextra\\u003e\",\"legendgroup\":\"America\",\"marker\":{\"color\":\"#00cc96\",\"symbol\":\"circle\"},\"mode\":\"markers\",\"name\":\"America\",\"orientation\":\"v\",\"showlegend\":true,\"x\":[67.0,89.0,75.0,53.0,63.0,67.0,62.0,77.0,42.0,30.0,80.0,82.0,48.0,52.0,81.0,64.0,62.0,61.0,60.0,42.0,48.0,65.0,86.0,84.0,61.0,61.0,58.0,61.0,61.0,42.0,81.0,45.0,33.0,80.0,35.0,64.0,63.0,61.0,33.0,59.0,85.0,77.0,74.0,88.0,85.0,71.0,44.0,82.0,45.0,76.0,46.0,73.0,86.0,83.0,77.0,65.0,86.0,47.0,66.0,86.0,45.0,88.0,61.0,38.0,61.0,77.0,69.0,81.0,77.0,51.0,89.0,80.0,62.0,48.0,61.0,61.0,53.0,79.0,53.0,45.0,75.0,68.0,64.0,55.0,85.0,63.0,61.0,61.0,76.0,37.0,75.0,43.0,76.0,49.0,88.0],\"xaxis\":\"x\",\"y\":[7200.0,7297.0,4858.0,6812.0,6874.0,6812.0,7065.0,8037.0,6812.0,7696.0,4539.0,8491.0,5143.0,6812.0,6812.0,5222.0,7795.0,6812.0,6812.0,6578.0,5060.0,6812.0,7182.0,5041.0,6640.0,5537.0,4159.0,6490.0,7297.0,6445.0,8816.0,7961.0,6402.0,6812.0,5414.0,8796.0,8573.0,4715.0,6812.0,5315.0,6812.0,8906.0,6812.0,4881.0,6962.0,6812.0,7458.0,6784.0,5791.0,8439.0,6082.0,6118.0,4659.0,6705.0,6258.0,7986.0,8184.0,8639.0,6812.0,7629.0,8255.0,6427.0,6812.0,6812.0,8679.0,8289.0,6812.0,7244.0,5090.0,5657.0,5030.0,6812.0,6812.0,6812.0,4322.0,5650.0,4091.0,4098.0,6380.0,4201.0,6235.0,8893.0,7369.0,6812.0,5381.0,8898.0,6392.0,6812.0,7883.0,6812.0,8007.0,6812.0,6765.0,4278.0,6812.0],\"yaxis\":\"y\",\"type\":\"scatter\"},{\"customdata\":[[\"Europe\"],[\"Europe\"],[\"Europe\"],[\"Europe\"],[\"Europe\"],[\"Europe\"],[\"Europe\"],[\"Europe\"],[\"Europe\"],[\"Europe\"],[\"Europe\"],[\"Europe\"],[\"Europe\"],[\"Europe\"],[\"Europe\"],[\"Europe\"],[\"Europe\"],[\"Europe\"],[\"Europe\"],[\"Europe\"],[\"Europe\"],[\"Europe\"],[\"Europe\"],[\"Europe\"],[\"Europe\"],[\"Europe\"],[\"Europe\"],[\"Europe\"],[\"Europe\"],[\"Europe\"],[\"Europe\"],[\"Europe\"],[\"Europe\"],[\"Europe\"],[\"Europe\"],[\"Europe\"],[\"Europe\"],[\"Europe\"],[\"Europe\"],[\"Europe\"],[\"Europe\"],[\"Europe\"],[\"Europe\"],[\"Europe\"],[\"Europe\"],[\"Europe\"],[\"Europe\"],[\"Europe\"],[\"Europe\"],[\"Europe\"],[\"Europe\"],[\"Europe\"],[\"Europe\"],[\"Europe\"],[\"Europe\"],[\"Europe\"],[\"Europe\"],[\"Europe\"],[\"Europe\"],[\"Europe\"],[\"Europe\"],[\"Europe\"],[\"Europe\"],[\"Europe\"],[\"Europe\"],[\"Europe\"],[\"Europe\"],[\"Europe\"],[\"Europe\"],[\"Europe\"],[\"Europe\"],[\"Europe\"],[\"Europe\"]],\"hovertemplate\":\"Server=%{customdata[0]}\\u003cbr\\u003ePlayer Level=%{x}\\u003cbr\\u003eAchievements=%{y}\\u003cextra\\u003e\\u003c\\u002fextra\\u003e\",\"legendgroup\":\"Europe\",\"marker\":{\"color\":\"#ab63fa\",\"symbol\":\"circle\"},\"mode\":\"markers\",\"name\":\"Europe\",\"orientation\":\"v\",\"showlegend\":true,\"x\":[61.0,51.0,54.0,61.0,70.0,78.0,77.0,32.0,58.0,90.0,31.0,65.0,44.0,61.0,54.0,34.0,44.0,43.0,73.0,39.0,49.0,86.0,49.0,57.0,44.0,69.0,41.0,35.0,53.0,35.0,61.0,61.0,69.0,30.0,88.0,32.0,60.0,31.0,82.0,79.0,48.0,35.0,84.0,56.0,56.0,35.0,30.0,44.0,69.0,61.0,77.0,38.0,75.0,68.0,84.0,61.0,69.0,66.0,62.0,54.0,62.0,70.0,90.0,61.0,89.0,53.0,78.0,30.0,74.0,50.0,46.0,50.0,80.0],\"xaxis\":\"x\",\"y\":[7693.0,7314.0,7910.0,6812.0,7378.0,8204.0,7586.0,6812.0,8063.0,6860.0,8110.0,7845.0,6812.0,7334.0,6078.0,6812.0,5241.0,5472.0,6509.0,6812.0,8035.0,4612.0,8778.0,5073.0,5016.0,5218.0,4014.0,7286.0,6132.0,5597.0,6909.0,5879.0,6812.0,8997.0,8738.0,5577.0,5824.0,7275.0,7540.0,8061.0,6812.0,5147.0,6812.0,8034.0,6812.0,8816.0,7509.0,7619.0,6812.0,6545.0,8764.0,6333.0,8862.0,6812.0,5276.0,7470.0,5213.0,7560.0,4452.0,6313.0,7780.0,7521.0,7394.0,4536.0,6273.0,6812.0,6812.0,7618.0,6812.0,5099.0,6602.0,7314.0,4922.0],\"yaxis\":\"y\",\"type\":\"scatter\"},{\"customdata\":[[\"Middle_East\"],[\"Middle_East\"],[\"Middle_East\"],[\"Middle_East\"],[\"Middle_East\"],[\"Middle_East\"],[\"Middle_East\"],[\"Middle_East\"],[\"Middle_East\"],[\"Middle_East\"],[\"Middle_East\"],[\"Middle_East\"],[\"Middle_East\"],[\"Middle_East\"],[\"Middle_East\"],[\"Middle_East\"],[\"Middle_East\"],[\"Middle_East\"],[\"Middle_East\"],[\"Middle_East\"],[\"Middle_East\"],[\"Middle_East\"],[\"Middle_East\"],[\"Middle_East\"],[\"Middle_East\"],[\"Middle_East\"],[\"Middle_East\"],[\"Middle_East\"],[\"Middle_East\"],[\"Middle_East\"],[\"Middle_East\"],[\"Middle_East\"],[\"Middle_East\"],[\"Middle_East\"],[\"Middle_East\"],[\"Middle_East\"],[\"Middle_East\"],[\"Middle_East\"],[\"Middle_East\"],[\"Middle_East\"],[\"Middle_East\"],[\"Middle_East\"],[\"Middle_East\"],[\"Middle_East\"],[\"Middle_East\"],[\"Middle_East\"],[\"Middle_East\"],[\"Middle_East\"],[\"Middle_East\"],[\"Middle_East\"],[\"Middle_East\"],[\"Middle_East\"],[\"Middle_East\"],[\"Middle_East\"],[\"Middle_East\"],[\"Middle_East\"],[\"Middle_East\"],[\"Middle_East\"],[\"Middle_East\"],[\"Middle_East\"],[\"Middle_East\"],[\"Middle_East\"],[\"Middle_East\"],[\"Middle_East\"],[\"Middle_East\"],[\"Middle_East\"],[\"Middle_East\"],[\"Middle_East\"],[\"Middle_East\"],[\"Middle_East\"],[\"Middle_East\"],[\"Middle_East\"],[\"Middle_East\"],[\"Middle_East\"],[\"Middle_East\"],[\"Middle_East\"],[\"Middle_East\"],[\"Middle_East\"],[\"Middle_East\"],[\"Middle_East\"],[\"Middle_East\"],[\"Middle_East\"],[\"Middle_East\"],[\"Middle_East\"],[\"Middle_East\"],[\"Middle_East\"]],\"hovertemplate\":\"Server=%{customdata[0]}\\u003cbr\\u003ePlayer Level=%{x}\\u003cbr\\u003eAchievements=%{y}\\u003cextra\\u003e\\u003c\\u002fextra\\u003e\",\"legendgroup\":\"Middle_East\",\"marker\":{\"color\":\"#FFA15A\",\"symbol\":\"circle\"},\"mode\":\"markers\",\"name\":\"Middle_East\",\"orientation\":\"v\",\"showlegend\":true,\"x\":[48.0,48.0,30.0,31.0,82.0,76.0,37.0,71.0,76.0,34.0,32.0,61.0,75.0,36.0,59.0,75.0,71.0,83.0,49.0,67.0,90.0,34.0,75.0,45.0,90.0,53.0,85.0,32.0,61.0,45.0,53.0,61.0,41.0,51.0,73.0,71.0,72.0,70.0,61.0,72.0,86.0,72.0,72.0,64.0,40.0,30.0,61.0,80.0,42.0,67.0,40.0,46.0,61.0,35.0,61.0,68.0,69.0,81.0,90.0,53.0,84.0,31.0,90.0,53.0,36.0,67.0,30.0,61.0,81.0,70.0,89.0,35.0,90.0,45.0,89.0,61.0,33.0,37.0,83.0,61.0,40.0,80.0,78.0,59.0,49.0,40.0],\"xaxis\":\"x\",\"y\":[8567.0,6812.0,7596.0,5024.0,5329.0,8101.0,6812.0,6812.0,6812.0,6812.0,7437.0,8865.0,6812.0,8403.0,5527.0,6867.0,7305.0,8809.0,6812.0,6812.0,5966.0,4474.0,8425.0,6184.0,8358.0,5194.0,8604.0,6812.0,6812.0,8184.0,8266.0,6812.0,6812.0,5830.0,8576.0,6793.0,6812.0,7531.0,8745.0,6812.0,6607.0,8813.0,5406.0,4847.0,4700.0,6008.0,6221.0,6964.0,7419.0,4013.0,8534.0,8500.0,4210.0,6626.0,5876.0,4831.0,6178.0,6812.0,6260.0,7946.0,6514.0,5507.0,6812.0,8900.0,8518.0,6812.0,5687.0,7925.0,6452.0,6812.0,8849.0,4344.0,8696.0,4645.0,4459.0,5188.0,5958.0,4651.0,4273.0,6812.0,7883.0,7623.0,6812.0,8626.0,4719.0,7676.0],\"yaxis\":\"y\",\"type\":\"scatter\"}],                        {\"template\":{\"data\":{\"barpolar\":[{\"marker\":{\"line\":{\"color\":\"rgb(17,17,17)\",\"width\":0.5},\"pattern\":{\"fillmode\":\"overlay\",\"size\":10,\"solidity\":0.2}},\"type\":\"barpolar\"}],\"bar\":[{\"error_x\":{\"color\":\"#f2f5fa\"},\"error_y\":{\"color\":\"#f2f5fa\"},\"marker\":{\"line\":{\"color\":\"rgb(17,17,17)\",\"width\":0.5},\"pattern\":{\"fillmode\":\"overlay\",\"size\":10,\"solidity\":0.2}},\"type\":\"bar\"}],\"carpet\":[{\"aaxis\":{\"endlinecolor\":\"#A2B1C6\",\"gridcolor\":\"#506784\",\"linecolor\":\"#506784\",\"minorgridcolor\":\"#506784\",\"startlinecolor\":\"#A2B1C6\"},\"baxis\":{\"endlinecolor\":\"#A2B1C6\",\"gridcolor\":\"#506784\",\"linecolor\":\"#506784\",\"minorgridcolor\":\"#506784\",\"startlinecolor\":\"#A2B1C6\"},\"type\":\"carpet\"}],\"choropleth\":[{\"colorbar\":{\"outlinewidth\":0,\"ticks\":\"\"},\"type\":\"choropleth\"}],\"contourcarpet\":[{\"colorbar\":{\"outlinewidth\":0,\"ticks\":\"\"},\"type\":\"contourcarpet\"}],\"contour\":[{\"colorbar\":{\"outlinewidth\":0,\"ticks\":\"\"},\"colorscale\":[[0.0,\"#0d0887\"],[0.1111111111111111,\"#46039f\"],[0.2222222222222222,\"#7201a8\"],[0.3333333333333333,\"#9c179e\"],[0.4444444444444444,\"#bd3786\"],[0.5555555555555556,\"#d8576b\"],[0.6666666666666666,\"#ed7953\"],[0.7777777777777778,\"#fb9f3a\"],[0.8888888888888888,\"#fdca26\"],[1.0,\"#f0f921\"]],\"type\":\"contour\"}],\"heatmapgl\":[{\"colorbar\":{\"outlinewidth\":0,\"ticks\":\"\"},\"colorscale\":[[0.0,\"#0d0887\"],[0.1111111111111111,\"#46039f\"],[0.2222222222222222,\"#7201a8\"],[0.3333333333333333,\"#9c179e\"],[0.4444444444444444,\"#bd3786\"],[0.5555555555555556,\"#d8576b\"],[0.6666666666666666,\"#ed7953\"],[0.7777777777777778,\"#fb9f3a\"],[0.8888888888888888,\"#fdca26\"],[1.0,\"#f0f921\"]],\"type\":\"heatmapgl\"}],\"heatmap\":[{\"colorbar\":{\"outlinewidth\":0,\"ticks\":\"\"},\"colorscale\":[[0.0,\"#0d0887\"],[0.1111111111111111,\"#46039f\"],[0.2222222222222222,\"#7201a8\"],[0.3333333333333333,\"#9c179e\"],[0.4444444444444444,\"#bd3786\"],[0.5555555555555556,\"#d8576b\"],[0.6666666666666666,\"#ed7953\"],[0.7777777777777778,\"#fb9f3a\"],[0.8888888888888888,\"#fdca26\"],[1.0,\"#f0f921\"]],\"type\":\"heatmap\"}],\"histogram2dcontour\":[{\"colorbar\":{\"outlinewidth\":0,\"ticks\":\"\"},\"colorscale\":[[0.0,\"#0d0887\"],[0.1111111111111111,\"#46039f\"],[0.2222222222222222,\"#7201a8\"],[0.3333333333333333,\"#9c179e\"],[0.4444444444444444,\"#bd3786\"],[0.5555555555555556,\"#d8576b\"],[0.6666666666666666,\"#ed7953\"],[0.7777777777777778,\"#fb9f3a\"],[0.8888888888888888,\"#fdca26\"],[1.0,\"#f0f921\"]],\"type\":\"histogram2dcontour\"}],\"histogram2d\":[{\"colorbar\":{\"outlinewidth\":0,\"ticks\":\"\"},\"colorscale\":[[0.0,\"#0d0887\"],[0.1111111111111111,\"#46039f\"],[0.2222222222222222,\"#7201a8\"],[0.3333333333333333,\"#9c179e\"],[0.4444444444444444,\"#bd3786\"],[0.5555555555555556,\"#d8576b\"],[0.6666666666666666,\"#ed7953\"],[0.7777777777777778,\"#fb9f3a\"],[0.8888888888888888,\"#fdca26\"],[1.0,\"#f0f921\"]],\"type\":\"histogram2d\"}],\"histogram\":[{\"marker\":{\"pattern\":{\"fillmode\":\"overlay\",\"size\":10,\"solidity\":0.2}},\"type\":\"histogram\"}],\"mesh3d\":[{\"colorbar\":{\"outlinewidth\":0,\"ticks\":\"\"},\"type\":\"mesh3d\"}],\"parcoords\":[{\"line\":{\"colorbar\":{\"outlinewidth\":0,\"ticks\":\"\"}},\"type\":\"parcoords\"}],\"pie\":[{\"automargin\":true,\"type\":\"pie\"}],\"scatter3d\":[{\"line\":{\"colorbar\":{\"outlinewidth\":0,\"ticks\":\"\"}},\"marker\":{\"colorbar\":{\"outlinewidth\":0,\"ticks\":\"\"}},\"type\":\"scatter3d\"}],\"scattercarpet\":[{\"marker\":{\"colorbar\":{\"outlinewidth\":0,\"ticks\":\"\"}},\"type\":\"scattercarpet\"}],\"scattergeo\":[{\"marker\":{\"colorbar\":{\"outlinewidth\":0,\"ticks\":\"\"}},\"type\":\"scattergeo\"}],\"scattergl\":[{\"marker\":{\"line\":{\"color\":\"#283442\"}},\"type\":\"scattergl\"}],\"scattermapbox\":[{\"marker\":{\"colorbar\":{\"outlinewidth\":0,\"ticks\":\"\"}},\"type\":\"scattermapbox\"}],\"scatterpolargl\":[{\"marker\":{\"colorbar\":{\"outlinewidth\":0,\"ticks\":\"\"}},\"type\":\"scatterpolargl\"}],\"scatterpolar\":[{\"marker\":{\"colorbar\":{\"outlinewidth\":0,\"ticks\":\"\"}},\"type\":\"scatterpolar\"}],\"scatter\":[{\"marker\":{\"line\":{\"color\":\"#283442\"}},\"type\":\"scatter\"}],\"scatterternary\":[{\"marker\":{\"colorbar\":{\"outlinewidth\":0,\"ticks\":\"\"}},\"type\":\"scatterternary\"}],\"surface\":[{\"colorbar\":{\"outlinewidth\":0,\"ticks\":\"\"},\"colorscale\":[[0.0,\"#0d0887\"],[0.1111111111111111,\"#46039f\"],[0.2222222222222222,\"#7201a8\"],[0.3333333333333333,\"#9c179e\"],[0.4444444444444444,\"#bd3786\"],[0.5555555555555556,\"#d8576b\"],[0.6666666666666666,\"#ed7953\"],[0.7777777777777778,\"#fb9f3a\"],[0.8888888888888888,\"#fdca26\"],[1.0,\"#f0f921\"]],\"type\":\"surface\"}],\"table\":[{\"cells\":{\"fill\":{\"color\":\"#506784\"},\"line\":{\"color\":\"rgb(17,17,17)\"}},\"header\":{\"fill\":{\"color\":\"#2a3f5f\"},\"line\":{\"color\":\"rgb(17,17,17)\"}},\"type\":\"table\"}]},\"layout\":{\"annotationdefaults\":{\"arrowcolor\":\"#f2f5fa\",\"arrowhead\":0,\"arrowwidth\":1},\"autotypenumbers\":\"strict\",\"coloraxis\":{\"colorbar\":{\"outlinewidth\":0,\"ticks\":\"\"}},\"colorscale\":{\"diverging\":[[0,\"#8e0152\"],[0.1,\"#c51b7d\"],[0.2,\"#de77ae\"],[0.3,\"#f1b6da\"],[0.4,\"#fde0ef\"],[0.5,\"#f7f7f7\"],[0.6,\"#e6f5d0\"],[0.7,\"#b8e186\"],[0.8,\"#7fbc41\"],[0.9,\"#4d9221\"],[1,\"#276419\"]],\"sequential\":[[0.0,\"#0d0887\"],[0.1111111111111111,\"#46039f\"],[0.2222222222222222,\"#7201a8\"],[0.3333333333333333,\"#9c179e\"],[0.4444444444444444,\"#bd3786\"],[0.5555555555555556,\"#d8576b\"],[0.6666666666666666,\"#ed7953\"],[0.7777777777777778,\"#fb9f3a\"],[0.8888888888888888,\"#fdca26\"],[1.0,\"#f0f921\"]],\"sequentialminus\":[[0.0,\"#0d0887\"],[0.1111111111111111,\"#46039f\"],[0.2222222222222222,\"#7201a8\"],[0.3333333333333333,\"#9c179e\"],[0.4444444444444444,\"#bd3786\"],[0.5555555555555556,\"#d8576b\"],[0.6666666666666666,\"#ed7953\"],[0.7777777777777778,\"#fb9f3a\"],[0.8888888888888888,\"#fdca26\"],[1.0,\"#f0f921\"]]},\"colorway\":[\"#636efa\",\"#EF553B\",\"#00cc96\",\"#ab63fa\",\"#FFA15A\",\"#19d3f3\",\"#FF6692\",\"#B6E880\",\"#FF97FF\",\"#FECB52\"],\"font\":{\"color\":\"#f2f5fa\"},\"geo\":{\"bgcolor\":\"rgb(17,17,17)\",\"lakecolor\":\"rgb(17,17,17)\",\"landcolor\":\"rgb(17,17,17)\",\"showlakes\":true,\"showland\":true,\"subunitcolor\":\"#506784\"},\"hoverlabel\":{\"align\":\"left\"},\"hovermode\":\"closest\",\"mapbox\":{\"style\":\"dark\"},\"paper_bgcolor\":\"rgb(17,17,17)\",\"plot_bgcolor\":\"rgb(17,17,17)\",\"polar\":{\"angularaxis\":{\"gridcolor\":\"#506784\",\"linecolor\":\"#506784\",\"ticks\":\"\"},\"bgcolor\":\"rgb(17,17,17)\",\"radialaxis\":{\"gridcolor\":\"#506784\",\"linecolor\":\"#506784\",\"ticks\":\"\"}},\"scene\":{\"xaxis\":{\"backgroundcolor\":\"rgb(17,17,17)\",\"gridcolor\":\"#506784\",\"gridwidth\":2,\"linecolor\":\"#506784\",\"showbackground\":true,\"ticks\":\"\",\"zerolinecolor\":\"#C8D4E3\"},\"yaxis\":{\"backgroundcolor\":\"rgb(17,17,17)\",\"gridcolor\":\"#506784\",\"gridwidth\":2,\"linecolor\":\"#506784\",\"showbackground\":true,\"ticks\":\"\",\"zerolinecolor\":\"#C8D4E3\"},\"zaxis\":{\"backgroundcolor\":\"rgb(17,17,17)\",\"gridcolor\":\"#506784\",\"gridwidth\":2,\"linecolor\":\"#506784\",\"showbackground\":true,\"ticks\":\"\",\"zerolinecolor\":\"#C8D4E3\"}},\"shapedefaults\":{\"line\":{\"color\":\"#f2f5fa\"}},\"sliderdefaults\":{\"bgcolor\":\"#C8D4E3\",\"bordercolor\":\"rgb(17,17,17)\",\"borderwidth\":1,\"tickwidth\":0},\"ternary\":{\"aaxis\":{\"gridcolor\":\"#506784\",\"linecolor\":\"#506784\",\"ticks\":\"\"},\"baxis\":{\"gridcolor\":\"#506784\",\"linecolor\":\"#506784\",\"ticks\":\"\"},\"bgcolor\":\"rgb(17,17,17)\",\"caxis\":{\"gridcolor\":\"#506784\",\"linecolor\":\"#506784\",\"ticks\":\"\"}},\"title\":{\"x\":0.05},\"updatemenudefaults\":{\"bgcolor\":\"#506784\",\"borderwidth\":0},\"xaxis\":{\"automargin\":true,\"gridcolor\":\"#283442\",\"linecolor\":\"#506784\",\"ticks\":\"\",\"title\":{\"standoff\":15},\"zerolinecolor\":\"#283442\",\"zerolinewidth\":2},\"yaxis\":{\"automargin\":true,\"gridcolor\":\"#283442\",\"linecolor\":\"#506784\",\"ticks\":\"\",\"title\":{\"standoff\":15},\"zerolinecolor\":\"#283442\",\"zerolinewidth\":2}}},\"xaxis\":{\"anchor\":\"y\",\"domain\":[0.0,1.0],\"title\":{\"text\":\"Player Level\"}},\"yaxis\":{\"anchor\":\"x\",\"domain\":[0.0,1.0],\"title\":{\"text\":\"Achievements\"}},\"legend\":{\"title\":{\"text\":\"Server\"},\"tracegroupgap\":0},\"title\":{\"text\":\"Achievements vs Level by Server\"}},                        {\"responsive\": true}                    ).then(function(){\n",
       "                            \n",
       "var gd = document.getElementById('7f776531-4d3c-439a-942c-f6df15fe69a2');\n",
       "var x = new MutationObserver(function (mutations, observer) {{\n",
       "        var display = window.getComputedStyle(gd).display;\n",
       "        if (!display || display === 'none') {{\n",
       "            console.log([gd, 'removed!']);\n",
       "            Plotly.purge(gd);\n",
       "            observer.disconnect();\n",
       "        }}\n",
       "}});\n",
       "\n",
       "// Listen for the removal of the full notebook cells\n",
       "var notebookContainer = gd.closest('#notebook-container');\n",
       "if (notebookContainer) {{\n",
       "    x.observe(notebookContainer, {childList: true});\n",
       "}}\n",
       "\n",
       "// Listen for the clearing of the current output cell\n",
       "var outputEl = gd.closest('.output');\n",
       "if (outputEl) {{\n",
       "    x.observe(outputEl, {childList: true});\n",
       "}}\n",
       "\n",
       "                        })                };                });            </script>        </div>"
      ]
     },
     "metadata": {},
     "output_type": "display_data"
    }
   ],
   "source": [
    "df_clean = df[['Server', 'Achievements', 'Level']].dropna()\n",
    "\n",
    "fig = px.scatter(df_clean, x='Level', y='Achievements', color='Server',\n",
    "                 title='Achievements vs Level by Server',\n",
    "                 labels={'Level': 'Player Level', 'Achievements': 'Achievements'},\n",
    "                 hover_data=['Server'], template='plotly_dark')\n",
    "fig.show()"
   ]
  },
  {
   "cell_type": "markdown",
   "id": "6a687d0c-36d0-4d5a-8e2a-798b68d13a56",
   "metadata": {},
   "source": [
    "# **Thank You**"
   ]
  },
  {
   "cell_type": "code",
   "execution_count": null,
   "id": "b1dc1a55-f81e-482b-8b8e-0825e127b21e",
   "metadata": {},
   "outputs": [],
   "source": []
  }
 ],
 "metadata": {
  "kernelspec": {
   "display_name": "Python 3 (ipykernel)",
   "language": "python",
   "name": "python3"
  },
  "language_info": {
   "codemirror_mode": {
    "name": "ipython",
    "version": 3
   },
   "file_extension": ".py",
   "mimetype": "text/x-python",
   "name": "python",
   "nbconvert_exporter": "python",
   "pygments_lexer": "ipython3",
   "version": "3.12.7"
  }
 },
 "nbformat": 4,
 "nbformat_minor": 5
}
